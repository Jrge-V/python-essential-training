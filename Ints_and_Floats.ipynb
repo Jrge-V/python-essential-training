{
 "cells": [
  {
   "cell_type": "markdown",
   "id": "eae37013-8b4f-4dbf-873d-44cdd485c755",
   "metadata": {},
   "source": [
    "# Ints and Floats"
   ]
  },
  {
   "cell_type": "code",
   "execution_count": 1,
   "id": "0b648c94-9235-4a92-9a9d-4896597acb98",
   "metadata": {},
   "outputs": [
    {
     "data": {
      "text/plain": [
       "5.0"
      ]
     },
     "execution_count": 1,
     "metadata": {},
     "output_type": "execute_result"
    }
   ],
   "source": [
    "20/4"
   ]
  },
  {
   "cell_type": "code",
   "execution_count": 2,
   "id": "770c80cf-b7c9-4254-a597-9c639120c755",
   "metadata": {},
   "outputs": [
    {
     "data": {
      "text/plain": [
       "8.0"
      ]
     },
     "execution_count": 2,
     "metadata": {},
     "output_type": "execute_result"
    }
   ],
   "source": [
    "4 + 4.0"
   ]
  },
  {
   "cell_type": "code",
   "execution_count": 3,
   "id": "b7657279-d58f-482f-8656-08a36bca561a",
   "metadata": {},
   "outputs": [
    {
     "data": {
      "text/plain": [
       "16.0"
      ]
     },
     "execution_count": 3,
     "metadata": {},
     "output_type": "execute_result"
    }
   ],
   "source": [
    "4 * 4.0"
   ]
  },
  {
   "cell_type": "code",
   "execution_count": 4,
   "id": "4930ceb7-8048-49be-a893-40050c3affd0",
   "metadata": {},
   "outputs": [
    {
     "data": {
      "text/plain": [
       "256.0"
      ]
     },
     "execution_count": 4,
     "metadata": {},
     "output_type": "execute_result"
    }
   ],
   "source": [
    "4 ** 4.0"
   ]
  },
  {
   "cell_type": "code",
   "execution_count": 5,
   "id": "561e1b5f-95b2-430a-b072-5471b4134a78",
   "metadata": {},
   "outputs": [
    {
     "data": {
      "text/plain": [
       "256"
      ]
     },
     "execution_count": 5,
     "metadata": {},
     "output_type": "execute_result"
    }
   ],
   "source": [
    "int(4 ** 4.0)"
   ]
  },
  {
   "cell_type": "code",
   "execution_count": 6,
   "id": "d98fc1bb-6dda-4885-a39a-217caa19ce97",
   "metadata": {},
   "outputs": [
    {
     "data": {
      "text/plain": [
       "8"
      ]
     },
     "execution_count": 6,
     "metadata": {},
     "output_type": "execute_result"
    }
   ],
   "source": [
    "int(8.9)"
   ]
  },
  {
   "cell_type": "code",
   "execution_count": 7,
   "id": "76decd09-b96f-4ac3-9630-003f6ba0f209",
   "metadata": {},
   "outputs": [
    {
     "data": {
      "text/plain": [
       "8"
      ]
     },
     "execution_count": 7,
     "metadata": {},
     "output_type": "execute_result"
    }
   ],
   "source": [
    "int(8.9999)"
   ]
  },
  {
   "cell_type": "code",
   "execution_count": 8,
   "id": "32db1447-1c83-44f7-b5e3-48bf3bd906d6",
   "metadata": {},
   "outputs": [
    {
     "data": {
      "text/plain": [
       "4"
      ]
     },
     "execution_count": 8,
     "metadata": {},
     "output_type": "execute_result"
    }
   ],
   "source": [
    "int(14/3)"
   ]
  },
  {
   "cell_type": "code",
   "execution_count": 9,
   "id": "621340c1-675a-4376-94a4-0258244a9e1f",
   "metadata": {},
   "outputs": [
    {
     "data": {
      "text/plain": [
       "4.67"
      ]
     },
     "execution_count": 9,
     "metadata": {},
     "output_type": "execute_result"
    }
   ],
   "source": [
    "round(14/3, 2)"
   ]
  },
  {
   "cell_type": "code",
   "execution_count": 10,
   "id": "a8d2a91a-443d-4831-a77f-8b599715df0c",
   "metadata": {},
   "outputs": [
    {
     "data": {
      "text/plain": [
       "0.19999999999999996"
      ]
     },
     "execution_count": 10,
     "metadata": {},
     "output_type": "execute_result"
    }
   ],
   "source": [
    "1.2 - 1.0"
   ]
  },
  {
   "cell_type": "code",
   "execution_count": 11,
   "id": "31fa33b6-5c77-4e72-857c-64372c1c5a0a",
   "metadata": {},
   "outputs": [
    {
     "data": {
      "text/plain": [
       "0.2"
      ]
     },
     "execution_count": 11,
     "metadata": {},
     "output_type": "execute_result"
    }
   ],
   "source": [
    "round(1.2 - 1.0, 2)"
   ]
  },
  {
   "cell_type": "code",
   "execution_count": null,
   "id": "82c39af3-5b1b-4d9a-972b-5011a14982e6",
   "metadata": {},
   "outputs": [],
   "source": []
  }
 ],
 "metadata": {
  "kernelspec": {
   "display_name": "Python 3 (ipykernel)",
   "language": "python",
   "name": "python3"
  },
  "language_info": {
   "codemirror_mode": {
    "name": "ipython",
    "version": 3
   },
   "file_extension": ".py",
   "mimetype": "text/x-python",
   "name": "python",
   "nbconvert_exporter": "python",
   "pygments_lexer": "ipython3",
   "version": "3.12.2"
  }
 },
 "nbformat": 4,
 "nbformat_minor": 5
}

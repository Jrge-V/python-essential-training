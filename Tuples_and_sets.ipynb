{
 "cells": [
  {
   "cell_type": "markdown",
   "id": "a3b37008-0e11-430b-8bad-35a3f45dbd46",
   "metadata": {},
   "source": [
    "# Tuples & Sets"
   ]
  },
  {
   "cell_type": "markdown",
   "id": "6ff410ca-f609-4510-9f56-3d86be05fa8b",
   "metadata": {},
   "source": [
    "### Sets"
   ]
  },
  {
   "cell_type": "code",
   "execution_count": 18,
   "id": "9dafe46e-276e-45b3-99c5-04d9fa04468d",
   "metadata": {},
   "outputs": [
    {
     "data": {
      "text/plain": [
       "{'a', 'b', 'c'}"
      ]
     },
     "execution_count": 18,
     "metadata": {},
     "output_type": "execute_result"
    }
   ],
   "source": [
    "mySet = {'a', 'b', 'c'}\n",
    "mySet"
   ]
  },
  {
   "cell_type": "code",
   "execution_count": 19,
   "id": "b824578f-ab65-4604-abd7-9805927c2503",
   "metadata": {},
   "outputs": [
    {
     "data": {
      "text/plain": [
       "{'a', 'b', 'c'}"
      ]
     },
     "execution_count": 19,
     "metadata": {},
     "output_type": "execute_result"
    }
   ],
   "source": [
    "mySet = set(('a', 'b', 'c'))\n",
    "mySet"
   ]
  },
  {
   "cell_type": "code",
   "execution_count": 20,
   "id": "64adde72-0814-41eb-b2e4-b9182c22c149",
   "metadata": {},
   "outputs": [
    {
     "data": {
      "text/plain": [
       "{'a', 'b', 'c'}"
      ]
     },
     "execution_count": 20,
     "metadata": {},
     "output_type": "execute_result"
    }
   ],
   "source": [
    "myList = ['a', 'b', 'b', 'c', 'c']\n",
    "myList = set(myList)\n",
    "myList"
   ]
  },
  {
   "cell_type": "code",
   "execution_count": 21,
   "id": "1c6ab7a3-1372-4857-a5ff-660af798f413",
   "metadata": {},
   "outputs": [
    {
     "data": {
      "text/plain": [
       "{'a', 'b', 'c', 'd'}"
      ]
     },
     "execution_count": 21,
     "metadata": {},
     "output_type": "execute_result"
    }
   ],
   "source": [
    "mySet.add('d')\n",
    "mySet"
   ]
  },
  {
   "cell_type": "code",
   "execution_count": 22,
   "id": "fb5e9624-1511-465c-a0c8-cd9c5ea23b8a",
   "metadata": {},
   "outputs": [
    {
     "data": {
      "text/plain": [
       "True"
      ]
     },
     "execution_count": 22,
     "metadata": {},
     "output_type": "execute_result"
    }
   ],
   "source": [
    "'a' in mySet"
   ]
  },
  {
   "cell_type": "code",
   "execution_count": 23,
   "id": "70237e31-f3d5-4cb6-b027-82e5881c957b",
   "metadata": {},
   "outputs": [
    {
     "data": {
      "text/plain": [
       "False"
      ]
     },
     "execution_count": 23,
     "metadata": {},
     "output_type": "execute_result"
    }
   ],
   "source": [
    "'z' in mySet"
   ]
  },
  {
   "cell_type": "code",
   "execution_count": 24,
   "id": "2f8031f0-735a-4305-ab06-f63fe21ff7f3",
   "metadata": {},
   "outputs": [
    {
     "data": {
      "text/plain": [
       "4"
      ]
     },
     "execution_count": 24,
     "metadata": {},
     "output_type": "execute_result"
    }
   ],
   "source": [
    "len(mySet)"
   ]
  },
  {
   "cell_type": "code",
   "execution_count": 25,
   "id": "9f0745fb-d271-42ce-b1ed-c068504ee8df",
   "metadata": {
    "scrolled": true
   },
   "outputs": [
    {
     "name": "stdout",
     "output_type": "stream",
     "text": [
      "a\n",
      "d\n",
      "c\n",
      "b\n"
     ]
    }
   ],
   "source": [
    "while len(mySet):\n",
    "    print(mySet.pop())"
   ]
  },
  {
   "cell_type": "code",
   "execution_count": 26,
   "id": "408919cc-fac5-43ea-8cad-cf40f5e3dae2",
   "metadata": {},
   "outputs": [],
   "source": [
    "mySet = {'a', 'b', 'c'}"
   ]
  },
  {
   "cell_type": "code",
   "execution_count": 27,
   "id": "6e737a48-d812-4ce0-b92b-e640b2e08de0",
   "metadata": {},
   "outputs": [
    {
     "data": {
      "text/plain": [
       "{'a', 'b', 'c'}"
      ]
     },
     "execution_count": 27,
     "metadata": {},
     "output_type": "execute_result"
    }
   ],
   "source": [
    "mySet"
   ]
  },
  {
   "cell_type": "code",
   "execution_count": 28,
   "id": "0d02abc7-6220-4df4-8cec-4cfc8dbdbc3b",
   "metadata": {},
   "outputs": [],
   "source": [
    "mySet.discard('a')"
   ]
  },
  {
   "cell_type": "code",
   "execution_count": 29,
   "id": "865351f5-da1e-46ed-ad03-0366c8cd2dca",
   "metadata": {},
   "outputs": [
    {
     "data": {
      "text/plain": [
       "{'b', 'c'}"
      ]
     },
     "execution_count": 29,
     "metadata": {},
     "output_type": "execute_result"
    }
   ],
   "source": [
    "mySet"
   ]
  },
  {
   "cell_type": "markdown",
   "id": "1973c848-5555-4c8b-a6eb-a3c2334f5134",
   "metadata": {},
   "source": [
    "### Tuples"
   ]
  },
  {
   "cell_type": "code",
   "execution_count": 30,
   "id": "d28e273c-242a-44b0-bc52-e4acf8cb4366",
   "metadata": {},
   "outputs": [
    {
     "data": {
      "text/plain": [
       "('a', 'b', 'c')"
      ]
     },
     "execution_count": 30,
     "metadata": {},
     "output_type": "execute_result"
    }
   ],
   "source": [
    "myTuple = ('a', 'b', 'c')\n",
    "myTuple"
   ]
  },
  {
   "cell_type": "code",
   "execution_count": 31,
   "id": "e7c7ccf6-9090-4781-b2b5-35d1e7fe5428",
   "metadata": {},
   "outputs": [
    {
     "data": {
      "text/plain": [
       "'a'"
      ]
     },
     "execution_count": 31,
     "metadata": {},
     "output_type": "execute_result"
    }
   ],
   "source": [
    "myTuple[0]"
   ]
  },
  {
   "cell_type": "code",
   "execution_count": 32,
   "id": "1c691c9d-0b6f-4350-a657-dd166a96a1ad",
   "metadata": {},
   "outputs": [
    {
     "ename": "TypeError",
     "evalue": "'tuple' object does not support item assignment",
     "output_type": "error",
     "traceback": [
      "\u001b[1;31m---------------------------------------------------------------------------\u001b[0m",
      "\u001b[1;31mTypeError\u001b[0m                                 Traceback (most recent call last)",
      "Cell \u001b[1;32mIn[32], line 1\u001b[0m\n\u001b[1;32m----> 1\u001b[0m \u001b[43mmyTuple\u001b[49m\u001b[43m[\u001b[49m\u001b[38;5;241;43m0\u001b[39;49m\u001b[43m]\u001b[49m \u001b[38;5;241m=\u001b[39m \u001b[38;5;124m'\u001b[39m\u001b[38;5;124md\u001b[39m\u001b[38;5;124m'\u001b[39m\n",
      "\u001b[1;31mTypeError\u001b[0m: 'tuple' object does not support item assignment"
     ]
    }
   ],
   "source": [
    "myTuple[0] = 'd'"
   ]
  },
  {
   "cell_type": "code",
   "execution_count": 44,
   "id": "8e1b49a2-fc8a-4ae0-a8fe-fd7e43d2ca82",
   "metadata": {},
   "outputs": [
    {
     "data": {
      "text/plain": [
       "tuple"
      ]
     },
     "execution_count": 44,
     "metadata": {},
     "output_type": "execute_result"
    }
   ],
   "source": [
    "def returnsMultipleValues():\n",
    "    return 1,2,3\n",
    "type(returnsMultipleValues())"
   ]
  },
  {
   "cell_type": "code",
   "execution_count": 35,
   "id": "89a858d9-cc92-4b52-bdfd-efcb0b2f0d01",
   "metadata": {},
   "outputs": [],
   "source": [
    "myTuple = 1,2,3 # does not need parantheses,  good practice to still add them"
   ]
  },
  {
   "cell_type": "code",
   "execution_count": 36,
   "id": "799fbe24-0e75-4a1f-bbb4-b8dcd0f5b5d6",
   "metadata": {},
   "outputs": [
    {
     "data": {
      "text/plain": [
       "tuple"
      ]
     },
     "execution_count": 36,
     "metadata": {},
     "output_type": "execute_result"
    }
   ],
   "source": [
    "type(myTuple)"
   ]
  },
  {
   "cell_type": "code",
   "execution_count": 40,
   "id": "1e7c31a4-36b5-42aa-888f-903130bdf02a",
   "metadata": {},
   "outputs": [],
   "source": [
    "a, b, c = returnsMultipleValues()"
   ]
  },
  {
   "cell_type": "code",
   "execution_count": 42,
   "id": "63156c34-d237-4442-8bec-f020b55f76b4",
   "metadata": {},
   "outputs": [
    {
     "name": "stdout",
     "output_type": "stream",
     "text": [
      "1\n",
      "2\n",
      "3\n"
     ]
    }
   ],
   "source": [
    "print(a)\n",
    "print(b)\n",
    "print(c)"
   ]
  },
  {
   "cell_type": "code",
   "execution_count": null,
   "id": "0ed71c56-eeb4-42da-a1e1-79f031d34600",
   "metadata": {},
   "outputs": [],
   "source": []
  }
 ],
 "metadata": {
  "kernelspec": {
   "display_name": "Python 3 (ipykernel)",
   "language": "python",
   "name": "python3"
  },
  "language_info": {
   "codemirror_mode": {
    "name": "ipython",
    "version": 3
   },
   "file_extension": ".py",
   "mimetype": "text/x-python",
   "name": "python",
   "nbconvert_exporter": "python",
   "pygments_lexer": "ipython3",
   "version": "3.12.2"
  }
 },
 "nbformat": 4,
 "nbformat_minor": 5
}

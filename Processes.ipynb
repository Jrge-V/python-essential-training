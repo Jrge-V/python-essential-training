{
 "cells": [
  {
   "cell_type": "code",
   "execution_count": 14,
   "id": "bb21f69b-e9cc-4d84-9911-5e2d7aa40d7a",
   "metadata": {},
   "outputs": [],
   "source": [
    "from multiprocessing import Process\n",
    "import time\n",
    "import threading"
   ]
  },
  {
   "cell_type": "markdown",
   "id": "95e7aba1-626d-4957-bcd8-38774e76278a",
   "metadata": {},
   "source": [
    "# Processes"
   ]
  },
  {
   "cell_type": "code",
   "execution_count": 13,
   "id": "4487d7ef-e353-43f2-a673-c681324bc2dd",
   "metadata": {},
   "outputs": [
    {
     "data": {
      "text/plain": [
       "[None, None, None, None, None, None, None, None, None, None]"
      ]
     },
     "execution_count": 13,
     "metadata": {},
     "output_type": "execute_result"
    }
   ],
   "source": [
    "def longSquare(num, results):\n",
    "    time.sleep(1)\n",
    "    print(num**2)\n",
    "    print('Finished computing!')\n",
    "\n",
    "results = {}\n",
    "processes = [Process(target=longSquare, args=(n,results)) for n in range(0,10)]\n",
    "[p.start() for p in processes]\n",
    "[p.join() for p in processes]\n"
   ]
  },
  {
   "cell_type": "code",
   "execution_count": 15,
   "id": "89575b59-e127-46dd-b9db-1eca54cb3215",
   "metadata": {},
   "outputs": [
    {
     "name": "stdout",
     "output_type": "stream",
     "text": [
      "0\n",
      "Finished computing!\n",
      "1\n",
      "Finished computing!\n",
      "25\n",
      "Finished computing!\n",
      "16\n",
      "Finished computing!\n",
      "36\n",
      "Finished computing!\n",
      "64\n",
      "Finished computing!\n",
      "49\n",
      "Finished computing!\n",
      "81\n",
      "Finished computing!\n",
      "9\n",
      "Finished computing!\n",
      "4\n",
      "Finished computing!\n",
      "{}\n"
     ]
    }
   ],
   "source": [
    "results = {}\n",
    "threads = [threading.Thread(target=longSquare, args=(n, results)) for n in range(0,10)]\n",
    "[t.start() for t in threads]\n",
    "[t.join() for t in threads]\n",
    "print(results)"
   ]
  },
  {
   "cell_type": "code",
   "execution_count": null,
   "id": "e461e809-39f6-44cc-a24b-0fc2dc73b19b",
   "metadata": {},
   "outputs": [],
   "source": []
  }
 ],
 "metadata": {
  "kernelspec": {
   "display_name": "Python 3 (ipykernel)",
   "language": "python",
   "name": "python3"
  },
  "language_info": {
   "codemirror_mode": {
    "name": "ipython",
    "version": 3
   },
   "file_extension": ".py",
   "mimetype": "text/x-python",
   "name": "python",
   "nbconvert_exporter": "python",
   "pygments_lexer": "ipython3",
   "version": "3.12.2"
  }
 },
 "nbformat": 4,
 "nbformat_minor": 5
}

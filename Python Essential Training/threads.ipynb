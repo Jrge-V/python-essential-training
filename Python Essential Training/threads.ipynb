{
 "cells": [
  {
   "cell_type": "code",
   "execution_count": 4,
   "id": "d877f12b-9636-4c7d-beda-9205ecb22061",
   "metadata": {},
   "outputs": [],
   "source": [
    "import threading\n",
    "import time"
   ]
  },
  {
   "cell_type": "markdown",
   "id": "ad292cd2-1aa7-460d-b030-87d2be9f085f",
   "metadata": {},
   "source": [
    "# Thread"
   ]
  },
  {
   "cell_type": "code",
   "execution_count": 5,
   "id": "34109251-63b6-4a87-ab84-8c7d78745fa5",
   "metadata": {},
   "outputs": [
    {
     "data": {
      "text/plain": [
       "[0, 1, 4, 9, 16]"
      ]
     },
     "execution_count": 5,
     "metadata": {},
     "output_type": "execute_result"
    }
   ],
   "source": [
    "def longSquare(num):\n",
    "    time.sleep(1)\n",
    "    return num**2\n",
    "\n",
    "[longSquare(n) for n in range (0,5)]"
   ]
  },
  {
   "cell_type": "code",
   "execution_count": null,
   "id": "3cdc0d63-0932-4681-922f-d3c0b9a0b52c",
   "metadata": {},
   "outputs": [],
   "source": [
    "t1 = threading.Thread(target=longSquare, args=(1,))\n",
    "t2 = threading.Thread(target=longSquare, args=(2,))\n",
    "\n",
    "t1.start()\n",
    "t2.start()\n",
    "\n",
    "t1.join()\n",
    "t2.join()"
   ]
  },
  {
   "cell_type": "code",
   "execution_count": 8,
   "id": "57045c07-8d5d-42fb-bc68-b38b18aa67e4",
   "metadata": {},
   "outputs": [
    {
     "name": "stdout",
     "output_type": "stream",
     "text": [
      "{1: 1, 2: 4}\n"
     ]
    }
   ],
   "source": [
    "def longSquare(num, results):\n",
    "    time.sleep(1)\n",
    "    results[num] = num**2\n",
    "\n",
    "results = {}\n",
    "t1 = threading.Thread(target=longSquare, args=(1, results))\n",
    "t2 = threading.Thread(target=longSquare, args=(2, results))\n",
    "\n",
    "t1.start()\n",
    "t2.start()\n",
    "\n",
    "t1.join()\n",
    "t2.join()\n",
    "\n",
    "print(results)"
   ]
  },
  {
   "cell_type": "code",
   "execution_count": 11,
   "id": "860c6ffa-6fbd-40d8-8f02-d202b44c4156",
   "metadata": {},
   "outputs": [
    {
     "name": "stdout",
     "output_type": "stream",
     "text": [
      "{1: 1, 0: 0, 2: 4, 3: 9, 4: 16, 6: 36, 5: 25, 7: 49, 8: 64, 11: 121, 9: 81, 10: 100, 12: 144, 15: 225, 14: 196, 16: 256, 13: 169, 21: 441, 18: 324, 17: 289, 19: 361, 20: 400, 25: 625, 22: 484, 23: 529, 26: 676, 24: 576, 29: 841, 27: 729, 30: 900, 28: 784, 35: 1225, 33: 1089, 32: 1024, 31: 961, 34: 1156, 37: 1369, 38: 1444, 36: 1296, 40: 1600, 39: 1521, 41: 1681, 42: 1764, 43: 1849, 46: 2116, 47: 2209, 48: 2304, 45: 2025, 44: 1936, 50: 2500, 51: 2601, 49: 2401, 52: 2704, 54: 2916, 53: 2809, 55: 3025, 58: 3364, 57: 3249, 56: 3136, 60: 3600, 59: 3481, 63: 3969, 62: 3844, 61: 3721, 64: 4096, 65: 4225, 67: 4489, 66: 4356, 70: 4900, 68: 4624, 69: 4761, 73: 5329, 71: 5041, 72: 5184, 75: 5625, 74: 5476, 77: 5929, 78: 6084, 76: 5776, 82: 6724, 81: 6561, 83: 6889, 79: 6241, 80: 6400, 87: 7569, 88: 7744, 86: 7396, 85: 7225, 84: 7056, 90: 8100, 89: 7921, 91: 8281, 93: 8649, 92: 8464, 95: 9025, 94: 8836, 96: 9216, 97: 9409, 98: 9604, 99: 9801}\n"
     ]
    }
   ],
   "source": [
    "def longSquare(num, results):\n",
    "    time.sleep(1)\n",
    "    results[num] = num**2\n",
    "\n",
    "results = {}\n",
    "threads = [threading.Thread(target=longSquare, args=(n, results)) for n in range (0,100)]\n",
    "[t.start() for t in threads]\n",
    "[t.join() for t in threads]\n",
    "\n",
    "print(results)"
   ]
  },
  {
   "cell_type": "code",
   "execution_count": null,
   "id": "85317276-95fd-41ae-8cdd-e75870fd6472",
   "metadata": {},
   "outputs": [],
   "source": []
  }
 ],
 "metadata": {
  "kernelspec": {
   "display_name": "Python 3 (ipykernel)",
   "language": "python",
   "name": "python3"
  },
  "language_info": {
   "codemirror_mode": {
    "name": "ipython",
    "version": 3
   },
   "file_extension": ".py",
   "mimetype": "text/x-python",
   "name": "python",
   "nbconvert_exporter": "python",
   "pygments_lexer": "ipython3",
   "version": "3.12.2"
  }
 },
 "nbformat": 4,
 "nbformat_minor": 5
}

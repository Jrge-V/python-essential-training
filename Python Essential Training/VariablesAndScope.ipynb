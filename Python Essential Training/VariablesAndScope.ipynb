{
 "cells": [
  {
   "cell_type": "markdown",
   "id": "1383e754-f7d5-4e75-adac-17cf981c3749",
   "metadata": {},
   "source": [
    "# Function Scope"
   ]
  },
  {
   "cell_type": "code",
   "execution_count": 2,
   "id": "8671e2ba-1aa1-476d-a8c5-10bb12e5bbdb",
   "metadata": {},
   "outputs": [
    {
     "name": "stdout",
     "output_type": "stream",
     "text": [
      "(1, 2)\n",
      "{'operation': 'sum'}\n"
     ]
    }
   ],
   "source": [
    "def performOperation(*args, **kwargs):\n",
    "    print(args)\n",
    "    print(kwargs)\n",
    "\n",
    "performOperation(1, 2, operation='sum')"
   ]
  },
  {
   "cell_type": "markdown",
   "id": "16a5baa3-1575-479a-8254-cbacb70ca35d",
   "metadata": {},
   "source": [
    "### locals()"
   ]
  },
  {
   "cell_type": "code",
   "execution_count": 4,
   "id": "6af3a1dc-f453-4a2e-b642-b9ce1dbe7c66",
   "metadata": {},
   "outputs": [
    {
     "name": "stdout",
     "output_type": "stream",
     "text": [
      "{'num1': 1, 'num2': 2, 'operation': 'multiply'}\n"
     ]
    }
   ],
   "source": [
    "# local variables can only used inside the function so.....\n",
    "def performOperation(num1, num2, operation='sum'):\n",
    "    print(locals())\n",
    "\n",
    "performOperation(1, 2, operation='multiply')\n",
    "# ... trying to \n",
    "# print(num1) here will result in an error since it's outside the local function scope!"
   ]
  },
  {
   "cell_type": "markdown",
   "id": "0d03bee0-0212-4f3e-9571-4ec935bb08ab",
   "metadata": {},
   "source": [
    "### globals()"
   ]
  },
  {
   "cell_type": "code",
   "execution_count": 3,
   "id": "8050d7e3-5486-4593-98b2-aa7b1bc72ff9",
   "metadata": {},
   "outputs": [
    {
     "data": {
      "text/plain": [
       "{'__name__': '__main__',\n",
       " '__doc__': 'Automatically created module for IPython interactive environment',\n",
       " '__package__': None,\n",
       " '__loader__': None,\n",
       " '__spec__': None,\n",
       " '__builtin__': <module 'builtins' (built-in)>,\n",
       " '__builtins__': <module 'builtins' (built-in)>,\n",
       " '_ih': ['',\n",
       "  '### locals()',\n",
       "  \"def performOperation(*args, **kwargs):\\n    print(args)\\n    print(kwargs)\\n\\nperformOperation(1, 2, operation='sum')\",\n",
       "  'globals()'],\n",
       " '_oh': {},\n",
       " '_dh': [WindowsPath('C:/Users/jorge/PycharmProjects/Personal/OpenEDGPythonProfessionalCert')],\n",
       " 'In': ['',\n",
       "  '### locals()',\n",
       "  \"def performOperation(*args, **kwargs):\\n    print(args)\\n    print(kwargs)\\n\\nperformOperation(1, 2, operation='sum')\",\n",
       "  'globals()'],\n",
       " 'Out': {},\n",
       " 'get_ipython': <bound method InteractiveShell.get_ipython of <ipykernel.zmqshell.ZMQInteractiveShell object at 0x0000011EBBE15C70>>,\n",
       " 'exit': <IPython.core.autocall.ZMQExitAutocall at 0x11ebbe15220>,\n",
       " 'quit': <IPython.core.autocall.ZMQExitAutocall at 0x11ebbe15220>,\n",
       " 'open': <function _io.open(file, mode='r', buffering=-1, encoding=None, errors=None, newline=None, closefd=True, opener=None)>,\n",
       " '_': '',\n",
       " '__': '',\n",
       " '___': '',\n",
       " '__session__': 'C:\\\\Users\\\\jorge\\\\PycharmProjects\\\\Personal\\\\OpenEDGPythonProfessionalCert\\\\Untitled.ipynb',\n",
       " '_i': \"def performOperation(*args, **kwargs):\\n    print(args)\\n    print(kwargs)\\n\\nperformOperation(1, 2, operation='sum')\",\n",
       " '_ii': '### locals()',\n",
       " '_iii': '',\n",
       " '_i1': '### locals()',\n",
       " '_i2': \"def performOperation(*args, **kwargs):\\n    print(args)\\n    print(kwargs)\\n\\nperformOperation(1, 2, operation='sum')\",\n",
       " 'performOperation': <function __main__.performOperation(*args, **kwargs)>,\n",
       " '_i3': 'globals()'}"
      ]
     },
     "execution_count": 3,
     "metadata": {},
     "output_type": "execute_result"
    }
   ],
   "source": [
    "globals()"
   ]
  },
  {
   "cell_type": "markdown",
   "id": "9ab26620-e7df-4662-88d6-2d1c6199deb6",
   "metadata": {},
   "source": [
    "### Global and Local scope"
   ]
  },
  {
   "cell_type": "code",
   "execution_count": 5,
   "id": "98ca9040-96c4-4921-8c58-d7913170ad03",
   "metadata": {},
   "outputs": [
    {
     "name": "stdout",
     "output_type": "stream",
     "text": [
      "some global data\n",
      "{'varA': 1, 'varB': 2}\n",
      "some global data\n",
      "{'varC': 3, 'varB': 4}\n"
     ]
    }
   ],
   "source": [
    "message = 'some global data'\n",
    "\n",
    "def func1(varA, varB):\n",
    "    print(message)\n",
    "    print(locals())\n",
    "\n",
    "def func2(varC, varB):\n",
    "    print(message)\n",
    "    print(locals())\n",
    "\n",
    "func1(1,2)\n",
    "func2(3,4)"
   ]
  },
  {
   "cell_type": "code",
   "execution_count": 8,
   "id": "339cab77-ad0a-438c-a1dc-98be07dc351d",
   "metadata": {},
   "outputs": [
    {
     "name": "stdout",
     "output_type": "stream",
     "text": [
      "1\n",
      "some local data\n",
      "{'varA': 1, 'varB': 2, 'message': 'some local data'}\n",
      "2\n",
      "some global data\n",
      "{'varC': 3, 'varB': 4}\n"
     ]
    }
   ],
   "source": [
    "# Python will prioritize local over global as seen with 'varA' below\n",
    "\n",
    "message = 'some global data'\n",
    "varA = 2\n",
    "def func1(varA, varB):\n",
    "    message = 'some local data'\n",
    "    print(varA)\n",
    "    print(message)\n",
    "    print(locals())\n",
    "\n",
    "def func2(varC, varB):\n",
    "    print(varA)\n",
    "    print(message)\n",
    "    print(locals())\n",
    "\n",
    "func1(1,2)\n",
    "func2(3,4)"
   ]
  },
  {
   "cell_type": "code",
   "execution_count": 9,
   "id": "9c11c484-4ba5-4fd3-8e3c-77dee8236ee7",
   "metadata": {},
   "outputs": [
    {
     "name": "stdout",
     "output_type": "stream",
     "text": [
      "1\n",
      "inner_func local scope: {'varA': 123, 'varB': 456}\n"
     ]
    }
   ],
   "source": [
    "# you can make an inner function within a function \n",
    "# HOWEVER, you can only call that inner function within the outside function and not on a global level\n",
    "def func1(varA, varB):\n",
    "    message='some local data'\n",
    "    print(varA)\n",
    "    def inner_func(varA, varB):\n",
    "        print(f'inner_func local scope: {locals()}')\n",
    "    inner_func(123, 456)\n",
    "    \n",
    "func1(1,2)"
   ]
  },
  {
   "cell_type": "code",
   "execution_count": 10,
   "id": "b4cb7cbe-3f74-4b7f-89e1-11bc37c1369a",
   "metadata": {},
   "outputs": [
    {
     "name": "stdout",
     "output_type": "stream",
     "text": [
      "1\n",
      "{'varA': 1, 'varB': 2, 'message': 'some local data', 'inner_func': <function func1.<locals>.inner_func at 0x0000011EBBE87F60>}\n",
      "inner_func local scope: {'varA': 123, 'varB': 456}\n"
     ]
    }
   ],
   "source": [
    "def func1(varA, varB):\n",
    "    message='some local data'\n",
    "    print(varA)\n",
    "    def inner_func(varA, varB):\n",
    "        print(f'inner_func local scope: {locals()}')\n",
    "        \n",
    "    print(locals())\n",
    "    inner_func(123, 456)\n",
    "    \n",
    "func1(1,2)"
   ]
  },
  {
   "cell_type": "code",
   "execution_count": null,
   "id": "29d4cfd2-b107-41ae-bb2c-1b10998e9b60",
   "metadata": {},
   "outputs": [],
   "source": []
  }
 ],
 "metadata": {
  "kernelspec": {
   "display_name": "Python 3 (ipykernel)",
   "language": "python",
   "name": "python3"
  },
  "language_info": {
   "codemirror_mode": {
    "name": "ipython",
    "version": 3
   },
   "file_extension": ".py",
   "mimetype": "text/x-python",
   "name": "python",
   "nbconvert_exporter": "python",
   "pygments_lexer": "ipython3",
   "version": "3.12.2"
  }
 },
 "nbformat": 4,
 "nbformat_minor": 5
}

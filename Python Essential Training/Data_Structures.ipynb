{
 "cells": [
  {
   "cell_type": "markdown",
   "id": "c2360e7e-81bb-4df7-92d1-8b101873d795",
   "metadata": {},
   "source": [
    "# Data Structures"
   ]
  },
  {
   "cell_type": "markdown",
   "id": "ca53e57d-393a-4ebd-8d81-374b116a9e99",
   "metadata": {},
   "source": [
    "### Lists"
   ]
  },
  {
   "cell_type": "code",
   "execution_count": 1,
   "id": "9cfe5472-2f76-4ce0-94eb-4e92db691ca3",
   "metadata": {},
   "outputs": [
    {
     "name": "stdout",
     "output_type": "stream",
     "text": [
      "[1, 2, 3, 4]\n"
     ]
    }
   ],
   "source": [
    "my_list = [1,2,3,4]\n",
    "print(my_list)"
   ]
  },
  {
   "cell_type": "code",
   "execution_count": null,
   "id": "88a8b37e-e47b-45e9-835e-10b16c47776e",
   "metadata": {},
   "outputs": [],
   "source": [
    "my_list = ['hello', 'this', 'is', 'my', 'list']"
   ]
  },
  {
   "cell_type": "code",
   "execution_count": null,
   "id": "3c041c0a-80aa-4254-be61-cfd4867634fc",
   "metadata": {},
   "outputs": [],
   "source": [
    "my_list = [1, 'list', False, []]"
   ]
  },
  {
   "cell_type": "code",
   "execution_count": 3,
   "id": "34164a24-0557-4d70-9536-82d9ac685361",
   "metadata": {
    "scrolled": true
   },
   "outputs": [
    {
     "data": {
      "text/plain": [
       "3"
      ]
     },
     "execution_count": 3,
     "metadata": {},
     "output_type": "execute_result"
    }
   ],
   "source": [
    "my_list = [[1,2,3], [False, True], []]\n",
    "len(my_list)"
   ]
  },
  {
   "cell_type": "markdown",
   "id": "e43adf41-b818-4198-97fc-6ba63e5d1c50",
   "metadata": {},
   "source": [
    "### Sets"
   ]
  },
  {
   "cell_type": "code",
   "execution_count": 5,
   "id": "91c5f8be-ee93-46c0-8ed2-ce9f18d2fc3f",
   "metadata": {
    "scrolled": true
   },
   "outputs": [
    {
     "name": "stdout",
     "output_type": "stream",
     "text": [
      "{1, 2, 3, 4, 5}\n"
     ]
    }
   ],
   "source": [
    "my_set = {1,2,3,4,5}\n",
    "print(my_set)"
   ]
  },
  {
   "cell_type": "code",
   "execution_count": 6,
   "id": "3f26a0ae-9972-43d2-bb11-33e74d898d07",
   "metadata": {},
   "outputs": [
    {
     "data": {
      "text/plain": [
       "set"
      ]
     },
     "execution_count": 6,
     "metadata": {},
     "output_type": "execute_result"
    }
   ],
   "source": [
    "type(my_set)"
   ]
  },
  {
   "cell_type": "code",
   "execution_count": 7,
   "id": "3163f837-cd30-4255-8c0d-ceca507e94e8",
   "metadata": {},
   "outputs": [
    {
     "data": {
      "text/plain": [
       "5"
      ]
     },
     "execution_count": 7,
     "metadata": {},
     "output_type": "execute_result"
    }
   ],
   "source": [
    "len(my_set)"
   ]
  },
  {
   "cell_type": "code",
   "execution_count": 10,
   "id": "3556ab80-ecb8-4e2f-a0b8-3d99ffc2b671",
   "metadata": {},
   "outputs": [
    {
     "name": "stdout",
     "output_type": "stream",
     "text": [
      "{1, 2}\n"
     ]
    }
   ],
   "source": [
    "my_set = {1,1,2,2}\n",
    "len(my_set)\n",
    "print(my_set)"
   ]
  },
  {
   "cell_type": "code",
   "execution_count": 12,
   "id": "351f3dc2-685d-42e8-bf1e-94c4ef166301",
   "metadata": {},
   "outputs": [
    {
     "data": {
      "text/plain": [
       "False"
      ]
     },
     "execution_count": 12,
     "metadata": {},
     "output_type": "execute_result"
    }
   ],
   "source": [
    "[1,2] == [2,1]"
   ]
  },
  {
   "cell_type": "code",
   "execution_count": 14,
   "id": "3f88fd24-3714-4eaa-a28b-293ff4a85038",
   "metadata": {},
   "outputs": [
    {
     "data": {
      "text/plain": [
       "True"
      ]
     },
     "execution_count": 14,
     "metadata": {},
     "output_type": "execute_result"
    }
   ],
   "source": [
    "{1,2,3} == {3,2,1,1,1,1}"
   ]
  },
  {
   "cell_type": "markdown",
   "id": "f107776b-d177-4900-a8b9-689888d5e834",
   "metadata": {},
   "source": [
    "### Tuples"
   ]
  },
  {
   "cell_type": "code",
   "execution_count": 15,
   "id": "1dc06d77-6702-4ec5-83da-879a55be4a3c",
   "metadata": {},
   "outputs": [],
   "source": [
    "my_tuples = (1,2,3)"
   ]
  },
  {
   "cell_type": "code",
   "execution_count": 16,
   "id": "ec3d2339-fc6c-40f2-adc8-e20f21d33acb",
   "metadata": {},
   "outputs": [
    {
     "data": {
      "text/plain": [
       "3"
      ]
     },
     "execution_count": 16,
     "metadata": {},
     "output_type": "execute_result"
    }
   ],
   "source": [
    "len(my_tuples)"
   ]
  },
  {
   "cell_type": "code",
   "execution_count": 17,
   "id": "7b8d6d6b-fbbb-4fc8-a408-dbaf5dc05c36",
   "metadata": {},
   "outputs": [
    {
     "data": {
      "text/plain": [
       "False"
      ]
     },
     "execution_count": 17,
     "metadata": {},
     "output_type": "execute_result"
    }
   ],
   "source": [
    "(1,2) == (2,1)"
   ]
  },
  {
   "cell_type": "code",
   "execution_count": 19,
   "id": "8159b464-7d37-4812-b2e1-1b92b6fd2678",
   "metadata": {},
   "outputs": [],
   "source": [
    "# It is important to note that you can't modify tuples, so no append, remove, etc..."
   ]
  },
  {
   "cell_type": "markdown",
   "id": "8dc12be1-7219-4204-83b0-9d733f49220d",
   "metadata": {},
   "source": [
    "### Dictionaries"
   ]
  },
  {
   "cell_type": "code",
   "execution_count": 21,
   "id": "56e95878-d5be-4767-b6e2-4fa25800fdcb",
   "metadata": {},
   "outputs": [],
   "source": [
    "my_dictionary = {\n",
    "    'apple': 'A red fruit',\n",
    "    'bear': 'A scary animal'\n",
    "}"
   ]
  },
  {
   "cell_type": "code",
   "execution_count": 22,
   "id": "39ca2ce5-62c2-4a53-aef4-1d8c3d98df45",
   "metadata": {},
   "outputs": [
    {
     "data": {
      "text/plain": [
       "'A red fruit'"
      ]
     },
     "execution_count": 22,
     "metadata": {},
     "output_type": "execute_result"
    }
   ],
   "source": [
    "my_dictionary['apple']"
   ]
  },
  {
   "cell_type": "code",
   "execution_count": 23,
   "id": "d21e02bd-c69b-4972-947a-c61762fd08a4",
   "metadata": {},
   "outputs": [],
   "source": [
    "# dictionary name must be unique, example: you should only have 1 apple"
   ]
  },
  {
   "cell_type": "code",
   "execution_count": null,
   "id": "f0c9b628-b6c6-4feb-901b-01496fa8c742",
   "metadata": {},
   "outputs": [],
   "source": []
  },
  {
   "cell_type": "code",
   "execution_count": null,
   "id": "66a5f6b7-32c2-46e8-81e9-8e743791d5c4",
   "metadata": {},
   "outputs": [],
   "source": []
  }
 ],
 "metadata": {
  "kernelspec": {
   "display_name": "Python 3 (ipykernel)",
   "language": "python",
   "name": "python3"
  },
  "language_info": {
   "codemirror_mode": {
    "name": "ipython",
    "version": 3
   },
   "file_extension": ".py",
   "mimetype": "text/x-python",
   "name": "python",
   "nbconvert_exporter": "python",
   "pygments_lexer": "ipython3",
   "version": "3.12.2"
  }
 },
 "nbformat": 4,
 "nbformat_minor": 5
}

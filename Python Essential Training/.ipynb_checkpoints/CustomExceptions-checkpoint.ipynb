{
 "cells": [
  {
   "cell_type": "markdown",
   "id": "cef04fb1-7302-4497-8d78-23b67aa55869",
   "metadata": {},
   "source": [
    "# Custom Exception"
   ]
  },
  {
   "cell_type": "code",
   "execution_count": 3,
   "id": "3f0f8af8-6ea0-4cd5-b464-053e89e62a1a",
   "metadata": {},
   "outputs": [
    {
     "ename": "CustomException",
     "evalue": "You called the causeError function!",
     "output_type": "error",
     "traceback": [
      "\u001b[1;31m---------------------------------------------------------------------------\u001b[0m",
      "\u001b[1;31mCustomException\u001b[0m                           Traceback (most recent call last)",
      "Cell \u001b[1;32mIn[3], line 7\u001b[0m\n\u001b[0;32m      4\u001b[0m \u001b[38;5;28;01mdef\u001b[39;00m \u001b[38;5;21mcauseError\u001b[39m():\n\u001b[0;32m      5\u001b[0m     \u001b[38;5;28;01mraise\u001b[39;00m CustomException(\u001b[38;5;124m'\u001b[39m\u001b[38;5;124mYou called the causeError function!\u001b[39m\u001b[38;5;124m'\u001b[39m)\n\u001b[1;32m----> 7\u001b[0m \u001b[43mcauseError\u001b[49m\u001b[43m(\u001b[49m\u001b[43m)\u001b[49m\n",
      "Cell \u001b[1;32mIn[3], line 5\u001b[0m, in \u001b[0;36mcauseError\u001b[1;34m()\u001b[0m\n\u001b[0;32m      4\u001b[0m \u001b[38;5;28;01mdef\u001b[39;00m \u001b[38;5;21mcauseError\u001b[39m():\n\u001b[1;32m----> 5\u001b[0m     \u001b[38;5;28;01mraise\u001b[39;00m CustomException(\u001b[38;5;124m'\u001b[39m\u001b[38;5;124mYou called the causeError function!\u001b[39m\u001b[38;5;124m'\u001b[39m)\n",
      "\u001b[1;31mCustomException\u001b[0m: You called the causeError function!"
     ]
    }
   ],
   "source": [
    "class CustomException(Exception):\n",
    "    pass\n",
    "\n",
    "def causeError():\n",
    "    raise CustomException('You called the causeError function!')\n",
    "\n",
    "causeError()"
   ]
  },
  {
   "cell_type": "code",
   "execution_count": null,
   "id": "15990317-0e7b-4c14-8ee2-e36f8df5cca7",
   "metadata": {},
   "outputs": [],
   "source": []
  },
  {
   "cell_type": "markdown",
   "id": "bb7ef215-b45e-41e0-85d0-d66ac2167410",
   "metadata": {},
   "source": [
    "### Adding Attributes"
   ]
  },
  {
   "cell_type": "code",
   "execution_count": 4,
   "id": "a191d49a-eae3-44a6-89e4-e1f2d385fae7",
   "metadata": {},
   "outputs": [
    {
     "ename": "ServerError",
     "evalue": "Status code: 500 and message is: The server messed up!",
     "output_type": "error",
     "traceback": [
      "\u001b[1;31m---------------------------------------------------------------------------\u001b[0m",
      "\u001b[1;31mServerError\u001b[0m                               Traceback (most recent call last)",
      "Cell \u001b[1;32mIn[4], line 18\u001b[0m\n\u001b[0;32m     15\u001b[0m \u001b[38;5;28;01mdef\u001b[39;00m \u001b[38;5;21mraiseServerError\u001b[39m():\n\u001b[0;32m     16\u001b[0m     \u001b[38;5;28;01mraise\u001b[39;00m ServerError()\n\u001b[1;32m---> 18\u001b[0m \u001b[43mraiseServerError\u001b[49m\u001b[43m(\u001b[49m\u001b[43m)\u001b[49m\n",
      "Cell \u001b[1;32mIn[4], line 16\u001b[0m, in \u001b[0;36mraiseServerError\u001b[1;34m()\u001b[0m\n\u001b[0;32m     15\u001b[0m \u001b[38;5;28;01mdef\u001b[39;00m \u001b[38;5;21mraiseServerError\u001b[39m():\n\u001b[1;32m---> 16\u001b[0m     \u001b[38;5;28;01mraise\u001b[39;00m ServerError()\n",
      "\u001b[1;31mServerError\u001b[0m: Status code: 500 and message is: The server messed up!"
     ]
    }
   ],
   "source": [
    "class HttpException(Exception):\n",
    "    statusCode = None\n",
    "    messgae = None\n",
    "    def __init__(self):\n",
    "        super().__init__(f'Status code: {self.statusCode} and message is: {self.message}')\n",
    "\n",
    "class NotFound(HttpException):\n",
    "    statusCode = 404\n",
    "    message = 'Resource not found'\n",
    "\n",
    "class ServerError(HttpException):\n",
    "    statusCode = 500\n",
    "    message = 'The server messed up!'\n",
    "\n",
    "def raiseServerError():\n",
    "    raise ServerError()\n",
    "\n",
    "raiseServerError()"
   ]
  },
  {
   "cell_type": "code",
   "execution_count": null,
   "id": "35812811-857f-4add-85fc-0090cd04a022",
   "metadata": {},
   "outputs": [],
   "source": []
  }
 ],
 "metadata": {
  "kernelspec": {
   "display_name": "Python 3 (ipykernel)",
   "language": "python",
   "name": "python3"
  },
  "language_info": {
   "codemirror_mode": {
    "name": "ipython",
    "version": 3
   },
   "file_extension": ".py",
   "mimetype": "text/x-python",
   "name": "python",
   "nbconvert_exporter": "python",
   "pygments_lexer": "ipython3",
   "version": "3.12.2"
  }
 },
 "nbformat": 4,
 "nbformat_minor": 5
}

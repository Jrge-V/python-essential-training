{
 "cells": [
  {
   "cell_type": "markdown",
   "id": "5f83add1-40ce-4885-bcf3-4239eaa2f3b8",
   "metadata": {},
   "source": [
    "# For"
   ]
  },
  {
   "cell_type": "code",
   "execution_count": 3,
   "id": "cb154781-f6dc-4ed9-bbc0-a980f66ca95e",
   "metadata": {},
   "outputs": [
    {
     "name": "stdout",
     "output_type": "stream",
     "text": [
      "1\n",
      "2\n",
      "3\n",
      "4\n"
     ]
    }
   ],
   "source": [
    "myList = [1,2,3,4]\n",
    "for item in myList:\n",
    "    print(item)"
   ]
  },
  {
   "cell_type": "markdown",
   "id": "ffd01eb3-4d1a-4ccf-9392-08ebe2b404e5",
   "metadata": {},
   "source": [
    "### Pass"
   ]
  },
  {
   "cell_type": "code",
   "execution_count": 4,
   "id": "ee257237-b3f0-41c0-b30e-732b0c0d72cb",
   "metadata": {},
   "outputs": [],
   "source": [
    "animalLookup = {\n",
    "    'a': ['aardvark', 'antelope'],\n",
    "    'b': ['bear'],\n",
    "    'c': ['cat'],\n",
    "    'd': ['dog'],\n",
    "}\n",
    "\n",
    "for letter, animals in animalLookup.items():\n",
    "    pass"
   ]
  },
  {
   "cell_type": "markdown",
   "id": "4d4088a8-3c73-4ba7-8fe9-d95e1c5ea996",
   "metadata": {},
   "source": [
    "### Continue"
   ]
  },
  {
   "cell_type": "code",
   "execution_count": 6,
   "id": "40637a1a-bc21-4bd9-a3d0-d061033575e3",
   "metadata": {},
   "outputs": [
    {
     "name": "stdout",
     "output_type": "stream",
     "text": [
      "Only one animal! bear\n",
      "Only one animal! cat\n",
      "Only one animal! dog\n"
     ]
    }
   ],
   "source": [
    "for letter, animals in animalLookup.items():\n",
    "    if len(animals) > 1:\n",
    "        continue\n",
    "    print(f'Only one animal! {animals[0]}')"
   ]
  },
  {
   "cell_type": "markdown",
   "id": "66e2fb0b-9b19-4000-bf26-72d1ee44a664",
   "metadata": {},
   "source": [
    "### Break"
   ]
  },
  {
   "cell_type": "code",
   "execution_count": 7,
   "id": "6ad81e54-2e72-45ff-92e0-b0248322531c",
   "metadata": {},
   "outputs": [
    {
     "name": "stdout",
     "output_type": "stream",
     "text": [
      "Found 2 animals: ['aardvark', 'antelope']\n"
     ]
    }
   ],
   "source": [
    "for letter, animals in animalLookup.items():\n",
    "    if len(animals) > 1:\n",
    "        print(f'Found {len(animals)} animals: {animals}')\n",
    "        break"
   ]
  },
  {
   "cell_type": "markdown",
   "id": "eb9de404-9b28-4c34-951b-264d4ae7df90",
   "metadata": {},
   "source": [
    "### For/Else"
   ]
  },
  {
   "cell_type": "code",
   "execution_count": 12,
   "id": "5ad9d745-7bce-4746-97d8-6936d7d12ad3",
   "metadata": {},
   "outputs": [
    {
     "name": "stdout",
     "output_type": "stream",
     "text": [
      "5 is prime!\n",
      "7 is prime!\n",
      "9 is prime!\n",
      "11 is prime!\n",
      "11 is prime!\n",
      "13 is prime!\n",
      "13 is prime!\n",
      "15 is prime!\n",
      "17 is prime!\n",
      "17 is prime!\n",
      "17 is prime!\n",
      "19 is prime!\n",
      "19 is prime!\n",
      "19 is prime!\n",
      "21 is prime!\n",
      "23 is prime!\n",
      "23 is prime!\n",
      "23 is prime!\n",
      "25 is prime!\n",
      "25 is prime!\n",
      "25 is prime!\n",
      "27 is prime!\n",
      "29 is prime!\n",
      "29 is prime!\n",
      "29 is prime!\n",
      "29 is prime!\n",
      "31 is prime!\n",
      "31 is prime!\n",
      "31 is prime!\n",
      "31 is prime!\n",
      "33 is prime!\n",
      "35 is prime!\n",
      "35 is prime!\n",
      "35 is prime!\n",
      "37 is prime!\n",
      "37 is prime!\n",
      "37 is prime!\n",
      "37 is prime!\n",
      "37 is prime!\n",
      "39 is prime!\n",
      "41 is prime!\n",
      "41 is prime!\n",
      "41 is prime!\n",
      "41 is prime!\n",
      "41 is prime!\n",
      "43 is prime!\n",
      "43 is prime!\n",
      "43 is prime!\n",
      "43 is prime!\n",
      "43 is prime!\n",
      "45 is prime!\n",
      "47 is prime!\n",
      "47 is prime!\n",
      "47 is prime!\n",
      "47 is prime!\n",
      "47 is prime!\n",
      "49 is prime!\n",
      "49 is prime!\n",
      "49 is prime!\n",
      "49 is prime!\n",
      "49 is prime!\n",
      "51 is prime!\n",
      "53 is prime!\n",
      "53 is prime!\n",
      "53 is prime!\n",
      "53 is prime!\n",
      "53 is prime!\n",
      "53 is prime!\n",
      "55 is prime!\n",
      "55 is prime!\n",
      "55 is prime!\n",
      "57 is prime!\n",
      "59 is prime!\n",
      "59 is prime!\n",
      "59 is prime!\n",
      "59 is prime!\n",
      "59 is prime!\n",
      "59 is prime!\n",
      "61 is prime!\n",
      "61 is prime!\n",
      "61 is prime!\n",
      "61 is prime!\n",
      "61 is prime!\n",
      "61 is prime!\n",
      "63 is prime!\n",
      "65 is prime!\n",
      "65 is prime!\n",
      "65 is prime!\n",
      "67 is prime!\n",
      "67 is prime!\n",
      "67 is prime!\n",
      "67 is prime!\n",
      "67 is prime!\n",
      "67 is prime!\n",
      "67 is prime!\n",
      "69 is prime!\n",
      "71 is prime!\n",
      "71 is prime!\n",
      "71 is prime!\n",
      "71 is prime!\n",
      "71 is prime!\n",
      "71 is prime!\n",
      "71 is prime!\n",
      "73 is prime!\n",
      "73 is prime!\n",
      "73 is prime!\n",
      "73 is prime!\n",
      "73 is prime!\n",
      "73 is prime!\n",
      "73 is prime!\n",
      "75 is prime!\n",
      "77 is prime!\n",
      "77 is prime!\n",
      "77 is prime!\n",
      "77 is prime!\n",
      "77 is prime!\n",
      "79 is prime!\n",
      "79 is prime!\n",
      "79 is prime!\n",
      "79 is prime!\n",
      "79 is prime!\n",
      "79 is prime!\n",
      "79 is prime!\n",
      "81 is prime!\n",
      "83 is prime!\n",
      "83 is prime!\n",
      "83 is prime!\n",
      "83 is prime!\n",
      "83 is prime!\n",
      "83 is prime!\n",
      "83 is prime!\n",
      "83 is prime!\n",
      "85 is prime!\n",
      "85 is prime!\n",
      "85 is prime!\n",
      "87 is prime!\n",
      "89 is prime!\n",
      "89 is prime!\n",
      "89 is prime!\n",
      "89 is prime!\n",
      "89 is prime!\n",
      "89 is prime!\n",
      "89 is prime!\n",
      "89 is prime!\n",
      "91 is prime!\n",
      "91 is prime!\n",
      "91 is prime!\n",
      "91 is prime!\n",
      "91 is prime!\n",
      "93 is prime!\n",
      "95 is prime!\n",
      "95 is prime!\n",
      "95 is prime!\n",
      "97 is prime!\n",
      "97 is prime!\n",
      "97 is prime!\n",
      "97 is prime!\n",
      "97 is prime!\n",
      "97 is prime!\n",
      "97 is prime!\n",
      "97 is prime!\n",
      "99 is prime!\n"
     ]
    }
   ],
   "source": [
    "for number in range (2,100):\n",
    "    for factor in range (2, int(number ** 0.5) + 1):\n",
    "        if number % factor == 0:\n",
    "            break\n",
    "        else:\n",
    "            print(f'{number} is prime!')\n",
    "    "
   ]
  },
  {
   "cell_type": "code",
   "execution_count": null,
   "id": "ab8ada31-6ae5-4694-b676-6a623c435299",
   "metadata": {},
   "outputs": [],
   "source": []
  }
 ],
 "metadata": {
  "kernelspec": {
   "display_name": "Python 3 (ipykernel)",
   "language": "python",
   "name": "python3"
  },
  "language_info": {
   "codemirror_mode": {
    "name": "ipython",
    "version": 3
   },
   "file_extension": ".py",
   "mimetype": "text/x-python",
   "name": "python",
   "nbconvert_exporter": "python",
   "pygments_lexer": "ipython3",
   "version": "3.12.2"
  }
 },
 "nbformat": 4,
 "nbformat_minor": 5
}

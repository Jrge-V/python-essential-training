{
 "cells": [
  {
   "cell_type": "code",
   "execution_count": 16,
   "id": "a172895a-ef9b-4573-bf26-22341ad58cd4",
   "metadata": {},
   "outputs": [],
   "source": [
    "import math"
   ]
  },
  {
   "cell_type": "markdown",
   "id": "fcb7ec9c-2223-4734-bbd3-01a11ff57d52",
   "metadata": {},
   "source": [
    "# Strings"
   ]
  },
  {
   "cell_type": "markdown",
   "id": "4ea0c341-9aa2-4487-8f6c-c0f8e374abfc",
   "metadata": {},
   "source": [
    "### Slicing"
   ]
  },
  {
   "cell_type": "code",
   "execution_count": 1,
   "id": "1b4744f3-7447-4b38-abd3-39bdb7acab8c",
   "metadata": {},
   "outputs": [],
   "source": [
    "name = 'My name is Ryan Mitchell'"
   ]
  },
  {
   "cell_type": "code",
   "execution_count": 2,
   "id": "89776e79-64dc-471d-96e1-650c21da8e13",
   "metadata": {},
   "outputs": [
    {
     "data": {
      "text/plain": [
       "'M'"
      ]
     },
     "execution_count": 2,
     "metadata": {},
     "output_type": "execute_result"
    }
   ],
   "source": [
    "name[0]"
   ]
  },
  {
   "cell_type": "code",
   "execution_count": 3,
   "id": "1eea0861-325f-423c-986a-c4668add1e87",
   "metadata": {},
   "outputs": [
    {
     "data": {
      "text/plain": [
       "'y'"
      ]
     },
     "execution_count": 3,
     "metadata": {},
     "output_type": "execute_result"
    }
   ],
   "source": [
    "name[1]"
   ]
  },
  {
   "cell_type": "code",
   "execution_count": 4,
   "id": "34ea968b-8d5c-4945-b881-d0e518a646a3",
   "metadata": {},
   "outputs": [
    {
     "data": {
      "text/plain": [
       "'My name'"
      ]
     },
     "execution_count": 4,
     "metadata": {},
     "output_type": "execute_result"
    }
   ],
   "source": [
    "name[0:7]"
   ]
  },
  {
   "cell_type": "code",
   "execution_count": 5,
   "id": "625e2016-8bed-469b-871c-923429a637d4",
   "metadata": {},
   "outputs": [
    {
     "data": {
      "text/plain": [
       "'My name'"
      ]
     },
     "execution_count": 5,
     "metadata": {},
     "output_type": "execute_result"
    }
   ],
   "source": [
    "name[:7]"
   ]
  },
  {
   "cell_type": "code",
   "execution_count": 6,
   "id": "45a3222d-3f61-401b-9cf8-777091e82186",
   "metadata": {},
   "outputs": [
    {
     "data": {
      "text/plain": [
       "'Ryan Mitchell'"
      ]
     },
     "execution_count": 6,
     "metadata": {},
     "output_type": "execute_result"
    }
   ],
   "source": [
    "name[11:]"
   ]
  },
  {
   "cell_type": "code",
   "execution_count": 8,
   "id": "113bfc23-1a4a-4da2-9673-9525925cd427",
   "metadata": {},
   "outputs": [],
   "source": [
    "myList = [1,2,3,4,5]"
   ]
  },
  {
   "cell_type": "code",
   "execution_count": 9,
   "id": "80c5973f-ae98-4707-8d41-7612c3b0377c",
   "metadata": {},
   "outputs": [
    {
     "data": {
      "text/plain": [
       "[3, 4]"
      ]
     },
     "execution_count": 9,
     "metadata": {},
     "output_type": "execute_result"
    }
   ],
   "source": [
    "myList[2:4]"
   ]
  },
  {
   "cell_type": "code",
   "execution_count": 10,
   "id": "f1e930ef-a7b8-4bda-8648-aa4b70b6f5a3",
   "metadata": {},
   "outputs": [
    {
     "data": {
      "text/plain": [
       "24"
      ]
     },
     "execution_count": 10,
     "metadata": {},
     "output_type": "execute_result"
    }
   ],
   "source": [
    "len(name)"
   ]
  },
  {
   "cell_type": "code",
   "execution_count": 11,
   "id": "8fd1da83-7c5d-4ad3-b49e-b243c5d802ea",
   "metadata": {},
   "outputs": [
    {
     "data": {
      "text/plain": [
       "5"
      ]
     },
     "execution_count": 11,
     "metadata": {},
     "output_type": "execute_result"
    }
   ],
   "source": [
    "len(myList)"
   ]
  },
  {
   "cell_type": "markdown",
   "id": "4e70dca8-044e-4622-a755-b82ae27c876c",
   "metadata": {},
   "source": [
    "### Formatting"
   ]
  },
  {
   "cell_type": "code",
   "execution_count": 12,
   "id": "fa98b4f3-9a6e-4799-8c7b-e89905a8bd71",
   "metadata": {},
   "outputs": [
    {
     "data": {
      "text/plain": [
       "'My number is: 5'"
      ]
     },
     "execution_count": 12,
     "metadata": {},
     "output_type": "execute_result"
    }
   ],
   "source": [
    "'My number is: ' +str(5)"
   ]
  },
  {
   "cell_type": "code",
   "execution_count": 13,
   "id": "542bdfc8-d743-460f-822b-9ebe73c747ba",
   "metadata": {},
   "outputs": [
    {
     "data": {
      "text/plain": [
       "'My number is: 5'"
      ]
     },
     "execution_count": 13,
     "metadata": {},
     "output_type": "execute_result"
    }
   ],
   "source": [
    "f'My number is: {5}'"
   ]
  },
  {
   "cell_type": "code",
   "execution_count": 14,
   "id": "551eaa17-a9c3-45bd-a981-15a0dc765283",
   "metadata": {},
   "outputs": [
    {
     "data": {
      "text/plain": [
       "'My number is: 5 and twice that is 10'"
      ]
     },
     "execution_count": 14,
     "metadata": {},
     "output_type": "execute_result"
    }
   ],
   "source": [
    "f'My number is: {5} and twice that is {2*5}'"
   ]
  },
  {
   "cell_type": "code",
   "execution_count": 18,
   "id": "cffc50ef-50c4-47a5-a5d1-0305aa91cf07",
   "metadata": {},
   "outputs": [
    {
     "data": {
      "text/plain": [
       "'Pi is: 3.1416'"
      ]
     },
     "execution_count": 18,
     "metadata": {},
     "output_type": "execute_result"
    }
   ],
   "source": [
    "f'Pi is: {math.pi:.4f}'"
   ]
  },
  {
   "cell_type": "code",
   "execution_count": 22,
   "id": "c6d1b01a-bc28-4176-a1c8-ace0963a7918",
   "metadata": {},
   "outputs": [
    {
     "data": {
      "text/plain": [
       "'Pi is: 3.141592653589793'"
      ]
     },
     "execution_count": 22,
     "metadata": {},
     "output_type": "execute_result"
    }
   ],
   "source": [
    "'Pi is: {}'.format(math.pi)"
   ]
  },
  {
   "cell_type": "markdown",
   "id": "f7166454-13f8-4972-9bcf-8ec4a75b00ba",
   "metadata": {},
   "source": [
    "### Multi-line Strings"
   ]
  },
  {
   "cell_type": "code",
   "execution_count": 29,
   "id": "44c8e83f-fcda-4875-9ce5-e1c4aa1bac42",
   "metadata": {},
   "outputs": [],
   "source": [
    "myString = '''\n",
    "Here is a long block of text\n",
    "I can add newLines!\n",
    "the text doesn't stop until it sees \\'\\'\\'\n",
    "\n",
    "'''"
   ]
  },
  {
   "cell_type": "code",
   "execution_count": 27,
   "id": "e4f743c8-93ce-4871-b8cc-1b63fa4fc1df",
   "metadata": {},
   "outputs": [
    {
     "data": {
      "text/plain": [
       "\"\\nHere is a long block of text\\nI can add newLines!\\nthe text doesn't stop until is sees '''\\n\\n\""
      ]
     },
     "execution_count": 27,
     "metadata": {},
     "output_type": "execute_result"
    }
   ],
   "source": [
    "myString"
   ]
  },
  {
   "cell_type": "code",
   "execution_count": 30,
   "id": "0a2ebdd7-821a-476e-b732-abe94fa1d39a",
   "metadata": {},
   "outputs": [
    {
     "name": "stdout",
     "output_type": "stream",
     "text": [
      "\n",
      "Here is a long block of text\n",
      "I can add newLines!\n",
      "the text doesn't stop until it sees '''\n",
      "\n",
      "\n"
     ]
    }
   ],
   "source": [
    "print(myString)"
   ]
  },
  {
   "cell_type": "code",
   "execution_count": null,
   "id": "b3277dcc-1571-4f49-9cd6-39c2a43fa6b9",
   "metadata": {},
   "outputs": [],
   "source": []
  }
 ],
 "metadata": {
  "kernelspec": {
   "display_name": "Python 3 (ipykernel)",
   "language": "python",
   "name": "python3"
  },
  "language_info": {
   "codemirror_mode": {
    "name": "ipython",
    "version": 3
   },
   "file_extension": ".py",
   "mimetype": "text/x-python",
   "name": "python",
   "nbconvert_exporter": "python",
   "pygments_lexer": "ipython3",
   "version": "3.12.2"
  }
 },
 "nbformat": 4,
 "nbformat_minor": 5
}

{
 "cells": [
  {
   "cell_type": "code",
   "execution_count": 5,
   "id": "591a6973-bb79-4cb3-b069-0077902a5c8e",
   "metadata": {},
   "outputs": [],
   "source": [
    "from decimal import Decimal, getcontext"
   ]
  },
  {
   "cell_type": "markdown",
   "id": "4934b51b-cffa-4a2e-bf93-99a1c654cb6d",
   "metadata": {},
   "source": [
    "# Integers"
   ]
  },
  {
   "cell_type": "code",
   "execution_count": 1,
   "id": "3a8b3933-882a-4f0e-b903-542a79207ba5",
   "metadata": {},
   "outputs": [
    {
     "data": {
      "text/plain": [
       "100"
      ]
     },
     "execution_count": 1,
     "metadata": {},
     "output_type": "execute_result"
    }
   ],
   "source": [
    "int('100')"
   ]
  },
  {
   "cell_type": "code",
   "execution_count": 2,
   "id": "2f33711d-460f-49af-9757-9e12753792bf",
   "metadata": {},
   "outputs": [
    {
     "data": {
      "text/plain": [
       "4"
      ]
     },
     "execution_count": 2,
     "metadata": {},
     "output_type": "execute_result"
    }
   ],
   "source": [
    "int('100', 2)"
   ]
  },
  {
   "cell_type": "code",
   "execution_count": 3,
   "id": "467fa5d5-4598-45cd-a256-04458f8e4e5e",
   "metadata": {},
   "outputs": [
    {
     "data": {
      "text/plain": [
       "427"
      ]
     },
     "execution_count": 3,
     "metadata": {},
     "output_type": "execute_result"
    }
   ],
   "source": [
    "int('1ab',16)"
   ]
  },
  {
   "cell_type": "markdown",
   "id": "44cf27cd-d2d1-4c7c-8c17-274e5ada991e",
   "metadata": {},
   "source": [
    "# Decimals"
   ]
  },
  {
   "cell_type": "code",
   "execution_count": 6,
   "id": "88f0e37c-da9c-47fe-b2e3-416799e08fd0",
   "metadata": {},
   "outputs": [
    {
     "data": {
      "text/plain": [
       "Context(prec=28, rounding=ROUND_HALF_EVEN, Emin=-999999, Emax=999999, capitals=1, clamp=0, flags=[], traps=[InvalidOperation, DivisionByZero, Overflow])"
      ]
     },
     "execution_count": 6,
     "metadata": {},
     "output_type": "execute_result"
    }
   ],
   "source": [
    "getcontext()"
   ]
  },
  {
   "cell_type": "code",
   "execution_count": 7,
   "id": "1e973987-f1a7-452d-bb52-cfdd294b67bd",
   "metadata": {},
   "outputs": [],
   "source": [
    "getcontext().prec=4"
   ]
  },
  {
   "cell_type": "code",
   "execution_count": 8,
   "id": "0553794c-850c-4cd8-b8c8-59ef59e0b818",
   "metadata": {},
   "outputs": [
    {
     "data": {
      "text/plain": [
       "Context(prec=4, rounding=ROUND_HALF_EVEN, Emin=-999999, Emax=999999, capitals=1, clamp=0, flags=[], traps=[InvalidOperation, DivisionByZero, Overflow])"
      ]
     },
     "execution_count": 8,
     "metadata": {},
     "output_type": "execute_result"
    }
   ],
   "source": [
    "getcontext()"
   ]
  },
  {
   "cell_type": "code",
   "execution_count": 9,
   "id": "51cb7cad-2c14-4382-880b-4716f76afb48",
   "metadata": {},
   "outputs": [
    {
     "data": {
      "text/plain": [
       "Decimal('0.3333')"
      ]
     },
     "execution_count": 9,
     "metadata": {},
     "output_type": "execute_result"
    }
   ],
   "source": [
    "Decimal(1) / Decimal(3)"
   ]
  },
  {
   "cell_type": "code",
   "execution_count": 10,
   "id": "00de1198-a795-4c3c-8596-df2a2b2fd02e",
   "metadata": {},
   "outputs": [],
   "source": [
    "getcontext().prec=2"
   ]
  },
  {
   "cell_type": "code",
   "execution_count": 11,
   "id": "d944828a-5fa8-4ddd-b6bd-b50d01bf33d2",
   "metadata": {},
   "outputs": [
    {
     "data": {
      "text/plain": [
       "Decimal('0.33')"
      ]
     },
     "execution_count": 11,
     "metadata": {},
     "output_type": "execute_result"
    }
   ],
   "source": [
    "Decimal(1) / Decimal(3)"
   ]
  },
  {
   "cell_type": "code",
   "execution_count": 13,
   "id": "01ad22da-d825-4172-8dd1-0d069731e73f",
   "metadata": {},
   "outputs": [
    {
     "data": {
      "text/plain": [
       "Decimal('3.140000000000000124344978758017532527446746826171875')"
      ]
     },
     "execution_count": 13,
     "metadata": {},
     "output_type": "execute_result"
    }
   ],
   "source": [
    "Decimal(3.14)"
   ]
  },
  {
   "cell_type": "code",
   "execution_count": 14,
   "id": "691e76bd-592e-4928-a5ec-7c4d1d8ecde4",
   "metadata": {},
   "outputs": [
    {
     "data": {
      "text/plain": [
       "Decimal('3.14')"
      ]
     },
     "execution_count": 14,
     "metadata": {},
     "output_type": "execute_result"
    }
   ],
   "source": [
    "Decimal('3.14')"
   ]
  },
  {
   "cell_type": "code",
   "execution_count": 16,
   "id": "a535215e-ebc4-4807-95fc-13b73ab94e33",
   "metadata": {},
   "outputs": [
    {
     "data": {
      "text/plain": [
       "0.2"
      ]
     },
     "execution_count": 16,
     "metadata": {},
     "output_type": "execute_result"
    }
   ],
   "source": [
    "round(1.2-1.0, 2)"
   ]
  },
  {
   "cell_type": "code",
   "execution_count": null,
   "id": "aea7f930-81ae-44e8-b22f-f85d8d93913a",
   "metadata": {},
   "outputs": [],
   "source": []
  }
 ],
 "metadata": {
  "kernelspec": {
   "display_name": "Python 3 (ipykernel)",
   "language": "python",
   "name": "python3"
  },
  "language_info": {
   "codemirror_mode": {
    "name": "ipython",
    "version": 3
   },
   "file_extension": ".py",
   "mimetype": "text/x-python",
   "name": "python",
   "nbconvert_exporter": "python",
   "pygments_lexer": "ipython3",
   "version": "3.12.2"
  }
 },
 "nbformat": 4,
 "nbformat_minor": 5
}

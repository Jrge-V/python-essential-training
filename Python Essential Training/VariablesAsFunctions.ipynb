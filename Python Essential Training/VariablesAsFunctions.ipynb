{
 "cells": [
  {
   "cell_type": "markdown",
   "id": "38b15357-993d-435e-b9e6-f3015ed8a97b",
   "metadata": {},
   "source": [
    "# Variables as Functions"
   ]
  },
  {
   "cell_type": "code",
   "execution_count": 1,
   "id": "ed36b496-6afc-407b-a556-1e8312da70a8",
   "metadata": {},
   "outputs": [],
   "source": [
    "# variables have a name and some data associated with them:\n",
    "x = 5"
   ]
  },
  {
   "cell_type": "code",
   "execution_count": 2,
   "id": "06bf3a5a-9b79-4e07-82a0-303bf8c6ec85",
   "metadata": {},
   "outputs": [],
   "source": [
    "# functions have a function name and some data assoicated with them:\n",
    "def x():\n",
    "    return 5"
   ]
  },
  {
   "cell_type": "markdown",
   "id": "4426bb88-43b7-4dd5-8c0a-1ee58094f103",
   "metadata": {},
   "source": [
    "### Viewing function data with __code__"
   ]
  },
  {
   "cell_type": "code",
   "execution_count": 6,
   "id": "59f9e8c1-3203-4ab7-a257-254a687caba4",
   "metadata": {},
   "outputs": [
    {
     "name": "stdout",
     "output_type": "stream",
     "text": [
      "()\n",
      "b'\\x97\\x00y\\x01'\n"
     ]
    }
   ],
   "source": [
    "print(x.__code__.co_varnames)\n",
    "print(x.__code__.co_code)"
   ]
  },
  {
   "cell_type": "markdown",
   "id": "35c6510d-66ac-46d6-b616-6e1a65aadbcb",
   "metadata": {},
   "source": [
    "### Text processing in Python"
   ]
  },
  {
   "cell_type": "code",
   "execution_count": 17,
   "id": "bef31f7d-7ff5-425e-bd9d-86450197f4c7",
   "metadata": {},
   "outputs": [],
   "source": [
    "text = '''\n",
    "Beautiful is better than ugly.\n",
    "Explicit is better than implicit.\n",
    "Simple is better than complex.\n",
    "Complex is better than complicated.\n",
    "Flat is better than nested.\n",
    "Sparse is better than dense.\n",
    "Readability counts.\n",
    "Special cases aren't special enough to break the rules.\n",
    "Although practicality beats purity.\n",
    "Errors should never pass silently.\n",
    "Unless explicitly silenced.\n",
    "In the face of ambiguity, refuse the temptation to guess.\n",
    "There should be one-- and preferably only one --obvious way to do it.\n",
    "Although that way may not be obvious at first unless you're Dutch.\n",
    "Now is better than never.\n",
    "Although never is often better than *right* now.\n",
    "If the implementation is hard to explain, it's a bad idea.\n",
    "If the implementation is easy to explain, it may be a good idea.\n",
    "Namespaces are one honking great idea -- let's do more of those!\n",
    "'''"
   ]
  },
  {
   "cell_type": "code",
   "execution_count": 18,
   "id": "b6cbeafc-d7ae-45a1-bcb5-18b355d4a808",
   "metadata": {},
   "outputs": [],
   "source": [
    "def lowercase(text):\n",
    "    return text.lower()\n",
    "\n",
    "def removePunctuation(text):\n",
    "    punctuations = ['.', '-', ',', '*']\n",
    "    for punctuation in punctuations:\n",
    "        text = text.replace(punctuation, '')\n",
    "    return text\n",
    "\n",
    "def removeNewlines(text):\n",
    "    text = text.replace('\\n', ' ')\n",
    "    return text\n",
    "\n",
    "def removeShortWords(text):\n",
    "    return ' '.join([word for word in text.split() if len(word) > 3])\n",
    "\n",
    "def removeLongWords(text):\n",
    "    return ' '.join([word for word in text.split() if len(word) < 6])"
   ]
  },
  {
   "cell_type": "code",
   "execution_count": 21,
   "id": "7c87d9d9-8d42-4873-a83a-a8161586f5c0",
   "metadata": {},
   "outputs": [
    {
     "name": "stdout",
     "output_type": "stream",
     "text": [
      "is than ugly is than is than is than flat is than is than dense cases to break the rules beats never pass in the face of the to guess there be one and only one way to do it that way may not be at first dutch now is than never never is often than right now if the is hard to it's a bad idea if the is easy to it may be a good idea are one great idea let's do more of\n"
     ]
    }
   ],
   "source": [
    "processingFunctions = [lowercase, removePunctuation, removeNewlines, removeLongWords]\n",
    "\n",
    "for func in processingFunctions:\n",
    "    text = func(text)\n",
    "\n",
    "print(text)"
   ]
  },
  {
   "cell_type": "markdown",
   "id": "c33305f7-731c-49d6-bb9b-c671adc484f4",
   "metadata": {},
   "source": [
    "### Lambda functions"
   ]
  },
  {
   "cell_type": "code",
   "execution_count": 22,
   "id": "2d4032ce-b73b-4552-82c3-78e31f2485a2",
   "metadata": {},
   "outputs": [
    {
     "data": {
      "text/plain": [
       "5"
      ]
     },
     "execution_count": 22,
     "metadata": {},
     "output_type": "execute_result"
    }
   ],
   "source": [
    "5"
   ]
  },
  {
   "cell_type": "code",
   "execution_count": 23,
   "id": "32fc21d8-bbd1-4c8a-b54d-523a944dd80c",
   "metadata": {},
   "outputs": [
    {
     "data": {
      "text/plain": [
       "8"
      ]
     },
     "execution_count": 23,
     "metadata": {},
     "output_type": "execute_result"
    }
   ],
   "source": [
    "# lambda = defined without a name, can take any number of arguments,...\n",
    "#... evaluates and returns ONLY ONE expression\n",
    "(lambda x: x + 3)(5)"
   ]
  },
  {
   "cell_type": "code",
   "execution_count": 24,
   "id": "036cdf1e-708f-4d59-b776-115a98499a00",
   "metadata": {},
   "outputs": [
    {
     "data": {
      "text/plain": [
       "[2, 3, 4, 5]"
      ]
     },
     "execution_count": 24,
     "metadata": {},
     "output_type": "execute_result"
    }
   ],
   "source": [
    "myList = [5,4,3,2]\n",
    "sorted(myList)"
   ]
  },
  {
   "cell_type": "code",
   "execution_count": 25,
   "id": "36ad25eb-2731-46ed-9a9f-4d6d2054e268",
   "metadata": {},
   "outputs": [
    {
     "data": {
      "text/plain": [
       "[{'num': 1}, {'num': 2}, {'num': 3}]"
      ]
     },
     "execution_count": 25,
     "metadata": {},
     "output_type": "execute_result"
    }
   ],
   "source": [
    "myList = [{'num': 3}, {'num': 2}, {'num': 1}]\n",
    "sorted(myList, key=lambda x: x['num'])"
   ]
  },
  {
   "cell_type": "code",
   "execution_count": null,
   "id": "f96412ac-218b-470e-81fb-7f986d74b3ff",
   "metadata": {},
   "outputs": [],
   "source": []
  }
 ],
 "metadata": {
  "kernelspec": {
   "display_name": "Python 3 (ipykernel)",
   "language": "python",
   "name": "python3"
  },
  "language_info": {
   "codemirror_mode": {
    "name": "ipython",
    "version": 3
   },
   "file_extension": ".py",
   "mimetype": "text/x-python",
   "name": "python",
   "nbconvert_exporter": "python",
   "pygments_lexer": "ipython3",
   "version": "3.12.2"
  }
 },
 "nbformat": 4,
 "nbformat_minor": 5
}

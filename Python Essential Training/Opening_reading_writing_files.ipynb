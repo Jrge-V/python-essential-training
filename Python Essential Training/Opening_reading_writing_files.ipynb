{
 "cells": [
  {
   "cell_type": "markdown",
   "id": "d8544a1e-c29e-4e0a-9a52-d1cb324c7139",
   "metadata": {},
   "source": [
    "# Files"
   ]
  },
  {
   "cell_type": "markdown",
   "id": "4650c14d-c4e0-4683-9958-e5cdb977b2c1",
   "metadata": {},
   "source": [
    "### Reading Files"
   ]
  },
  {
   "cell_type": "code",
   "execution_count": 10,
   "id": "22ea06e9-5c51-48c5-8ec2-610ce6cd1f19",
   "metadata": {},
   "outputs": [
    {
     "name": "stdout",
     "output_type": "stream",
     "text": [
      "<_io.TextIOWrapper name='example_file.txt' mode='r' encoding='cp1252'>\n"
     ]
    }
   ],
   "source": [
    "# 'r' = opening the file in read mode\n",
    "f = open('example_file.txt', 'r')\n",
    "print(f)"
   ]
  },
  {
   "cell_type": "code",
   "execution_count": 8,
   "id": "eb0d1533-dc73-4f0b-85aa-ee0f3e174ff5",
   "metadata": {},
   "outputs": [
    {
     "data": {
      "text/plain": [
       "'This is Example 2\\n'"
      ]
     },
     "execution_count": 8,
     "metadata": {},
     "output_type": "execute_result"
    }
   ],
   "source": [
    "# To read one line a time use readline()\n",
    "f.readline()"
   ]
  },
  {
   "cell_type": "code",
   "execution_count": 11,
   "id": "7229687c-f54e-45f1-965e-9bdb017486c6",
   "metadata": {},
   "outputs": [
    {
     "data": {
      "text/plain": [
       "['Hello this is an example\\n',\n",
       " 'This is Example 2\\n',\n",
       " 'This is Example 3\\n',\n",
       " 'And so on\\n',\n",
       " 'And it continues']"
      ]
     },
     "execution_count": 11,
     "metadata": {},
     "output_type": "execute_result"
    }
   ],
   "source": [
    "# To read multiple lines a time use readlines() (note the 's' as the end)\n",
    "f.readlines()"
   ]
  },
  {
   "cell_type": "code",
   "execution_count": 13,
   "id": "2ab9253d-ebd9-4d52-8a01-070c69ff0dca",
   "metadata": {},
   "outputs": [
    {
     "name": "stdout",
     "output_type": "stream",
     "text": [
      "Hello this is an example\n",
      "This is Example 2\n",
      "This is Example 3\n",
      "And so on\n",
      "And it continues\n"
     ]
    }
   ],
   "source": [
    "f = open('example_file.txt', 'r')\n",
    "\n",
    "for line in f.readlines():\n",
    "    print(line.strip())"
   ]
  },
  {
   "cell_type": "markdown",
   "id": "bb51c604-5585-4aa2-a68a-6bfc40548911",
   "metadata": {},
   "source": [
    "### Writing Files"
   ]
  },
  {
   "cell_type": "code",
   "execution_count": 24,
   "id": "547b3ea0-2f9c-46d9-aaf3-b8171b5f08b8",
   "metadata": {},
   "outputs": [
    {
     "name": "stdout",
     "output_type": "stream",
     "text": [
      "<_io.TextIOWrapper name='output.txt' mode='w' encoding='cp1252'>\n"
     ]
    }
   ],
   "source": [
    "# w = writing files, if file does not exist it will create the file\n",
    "# this will also cause it to overwrite any of the previous data in the files\n",
    "f = open('output.txt', 'w')\n",
    "print(f)"
   ]
  },
  {
   "cell_type": "code",
   "execution_count": 25,
   "id": "2804cdb7-2be3-4fc7-96ae-541e81e33de5",
   "metadata": {},
   "outputs": [
    {
     "data": {
      "text/plain": [
       "7"
      ]
     },
     "execution_count": 25,
     "metadata": {},
     "output_type": "execute_result"
    }
   ],
   "source": [
    "f.write('Line 1\\n')\n",
    "f.write('Line 2\\n')"
   ]
  },
  {
   "cell_type": "code",
   "execution_count": 26,
   "id": "67810a35-1f3a-4436-b100-f3ee6637b10c",
   "metadata": {},
   "outputs": [],
   "source": [
    "# after writing we must close the file for it to update!\n",
    "f.close()"
   ]
  },
  {
   "cell_type": "markdown",
   "id": "6cb93965-1092-4050-bea4-332e2daef0d7",
   "metadata": {},
   "source": [
    "### Appending Files"
   ]
  },
  {
   "cell_type": "code",
   "execution_count": 27,
   "id": "4b5d87d3-854f-4e0d-8e37-0db05025ee67",
   "metadata": {},
   "outputs": [],
   "source": [
    "# = append file, this will not overwrite anything but will instead add to the existing file\n",
    "f = open('output.txt', 'a')\n",
    "f.write('Line 3\\n')\n",
    "f.write('Line 4\\n')\n",
    "f.close()"
   ]
  },
  {
   "cell_type": "code",
   "execution_count": 28,
   "id": "b0716cf0-6581-43cf-b262-d4f051b09120",
   "metadata": {},
   "outputs": [
    {
     "name": "stdout",
     "output_type": "stream",
     "text": [
      "<_io.TextIOWrapper name='output.txt' mode='a' encoding='cp1252'>\n"
     ]
    }
   ],
   "source": [
    "# BEST PRACTICE TO ALWAYS CLOSE() FILES WHEN YOU\"RE DONE WITH THEM\n",
    "\n",
    "# 'with' opens the file and then closes it after leaving the code block...\n",
    "# ...without having to call close()\n",
    "with open('output.txt', 'a') as f:\n",
    "    f.write('some stuff\\n')\n",
    "    f.write('some other stuff\\n')\n",
    "\n",
    "print(f)"
   ]
  },
  {
   "cell_type": "code",
   "execution_count": null,
   "id": "c40eee40-378c-403a-86c7-6a22c59e41cd",
   "metadata": {},
   "outputs": [],
   "source": []
  }
 ],
 "metadata": {
  "kernelspec": {
   "display_name": "Python 3 (ipykernel)",
   "language": "python",
   "name": "python3"
  },
  "language_info": {
   "codemirror_mode": {
    "name": "ipython",
    "version": 3
   },
   "file_extension": ".py",
   "mimetype": "text/x-python",
   "name": "python",
   "nbconvert_exporter": "python",
   "pygments_lexer": "ipython3",
   "version": "3.12.2"
  }
 },
 "nbformat": 4,
 "nbformat_minor": 5
}

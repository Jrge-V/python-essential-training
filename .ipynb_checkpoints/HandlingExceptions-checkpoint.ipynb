{
 "cells": [
  {
   "cell_type": "code",
   "execution_count": 7,
   "id": "df6af190-9889-4c54-acdd-f3f340fbcd1d",
   "metadata": {},
   "outputs": [],
   "source": [
    "import time"
   ]
  },
  {
   "cell_type": "markdown",
   "id": "6d20b19f-c954-4102-b177-37a36566ad8e",
   "metadata": {},
   "source": [
    "# Handling Exceptions"
   ]
  },
  {
   "cell_type": "markdown",
   "id": "eb6b11fd-6be6-41ff-91c0-355fcc5dbf2b",
   "metadata": {},
   "source": [
    "### Try / Except"
   ]
  },
  {
   "cell_type": "code",
   "execution_count": 4,
   "id": "73992957-2909-4d01-8212-8f1de62bd7af",
   "metadata": {},
   "outputs": [
    {
     "data": {
      "text/plain": [
       "ZeroDivisionError('division by zero')"
      ]
     },
     "execution_count": 4,
     "metadata": {},
     "output_type": "execute_result"
    }
   ],
   "source": [
    "def causeError():\n",
    "    try:\n",
    "        return 1/0\n",
    "    except Exception as e:\n",
    "        return e\n",
    "\n",
    "causeError()"
   ]
  },
  {
   "cell_type": "code",
   "execution_count": 3,
   "id": "869d0df9-65fb-4cce-870d-bfe552f39cb4",
   "metadata": {},
   "outputs": [
    {
     "name": "stdout",
     "output_type": "stream",
     "text": [
      "There was some sort of error\n"
     ]
    }
   ],
   "source": [
    "def causeError():\n",
    "    try:\n",
    "        return 1/0\n",
    "    except Exception:\n",
    "        print('There was some sort of error')\n",
    "\n",
    "causeError()"
   ]
  },
  {
   "cell_type": "markdown",
   "id": "b870b19e-a677-4360-ab3e-12b186374434",
   "metadata": {},
   "source": [
    "### Finally"
   ]
  },
  {
   "cell_type": "code",
   "execution_count": 5,
   "id": "f5338fd6-2eb7-4b24-bc8a-cb6d56e943a5",
   "metadata": {},
   "outputs": [
    {
     "name": "stdout",
     "output_type": "stream",
     "text": [
      "There was some sort of error\n",
      "This will always execute\n"
     ]
    }
   ],
   "source": [
    "def causeError():\n",
    "    try:\n",
    "        return 1/0\n",
    "    except Exception:\n",
    "        print('There was some sort of error')\n",
    "    finally:\n",
    "        print('This will always execute')\n",
    "\n",
    "causeError()"
   ]
  },
  {
   "cell_type": "code",
   "execution_count": 6,
   "id": "7d04abbb-3941-41b3-a926-8339e165a9ff",
   "metadata": {},
   "outputs": [
    {
     "name": "stdout",
     "output_type": "stream",
     "text": [
      "This will always execute\n"
     ]
    },
    {
     "data": {
      "text/plain": [
       "1.0"
      ]
     },
     "execution_count": 6,
     "metadata": {},
     "output_type": "execute_result"
    }
   ],
   "source": [
    "def causeError():\n",
    "    try:\n",
    "        return 1/1\n",
    "    except Exception:\n",
    "        print('There was some sort of error')\n",
    "    finally:\n",
    "        print('This will always execute')\n",
    "\n",
    "causeError()"
   ]
  },
  {
   "cell_type": "code",
   "execution_count": 9,
   "id": "21aa8251-1c87-4a4b-8f8e-753719e0cfd3",
   "metadata": {},
   "outputs": [
    {
     "name": "stdout",
     "output_type": "stream",
     "text": [
      "Function took 0.5010154247283936 seconds to execute\n"
     ]
    },
    {
     "data": {
      "text/plain": [
       "1.0"
      ]
     },
     "execution_count": 9,
     "metadata": {},
     "output_type": "execute_result"
    }
   ],
   "source": [
    "def causeError():\n",
    "    start = time.time()\n",
    "    try:\n",
    "        time.sleep(0.5)\n",
    "        return 1/1\n",
    "    except Exception:\n",
    "        print('There was some sort of error')\n",
    "    finally:\n",
    "        print(f'Function took {time.time() - start} seconds to execute')\n",
    "\n",
    "causeError()"
   ]
  },
  {
   "cell_type": "code",
   "execution_count": null,
   "id": "709eebde-11c8-4dcc-962e-318dda426fb4",
   "metadata": {},
   "outputs": [],
   "source": []
  },
  {
   "cell_type": "markdown",
   "id": "b1269a73-7fd1-4ee7-a7b3-824189431dc6",
   "metadata": {},
   "source": [
    "### Caching Exceptions by Type"
   ]
  },
  {
   "cell_type": "code",
   "execution_count": 18,
   "id": "6002fe32-57b1-4234-8ba3-625c574ae520",
   "metadata": {},
   "outputs": [
    {
     "name": "stdout",
     "output_type": "stream",
     "text": [
      "There was a type error\n"
     ]
    }
   ],
   "source": [
    "def causeError():\n",
    "    try:\n",
    "        return 1 + 'a'\n",
    "    except TypeError:\n",
    "        print('There was a type error')\n",
    "    except ZeroDivisionError:\n",
    "        print('There was a zero divison error')\n",
    "    except Exception:\n",
    "        print('There was some sort of error')\n",
    "\n",
    "causeError()"
   ]
  },
  {
   "cell_type": "markdown",
   "id": "3f28e87e-3640-423a-a3a2-612f1fe716ab",
   "metadata": {},
   "source": [
    "### Custom Decorator"
   ]
  },
  {
   "cell_type": "code",
   "execution_count": 19,
   "id": "5854b11e-6ecb-4973-ac22-ed2033e82f27",
   "metadata": {},
   "outputs": [
    {
     "name": "stdout",
     "output_type": "stream",
     "text": [
      "There was a zero divison error\n"
     ]
    }
   ],
   "source": [
    "def handleException(func):\n",
    "    def wrapper(*args):\n",
    "        try:\n",
    "            func(*args)\n",
    "        except TypeError:\n",
    "            print('There was a type error')\n",
    "        except ZeroDivisionError:\n",
    "            print('There was a zero divison error')\n",
    "        except Exception:\n",
    "            print('There was some sort of error')\n",
    "    return wrapper\n",
    "\n",
    "@handleException\n",
    "def causeError():\n",
    "    return 1/0\n",
    "\n",
    "causeError()"
   ]
  },
  {
   "cell_type": "markdown",
   "id": "ad0c330e-6529-48e2-8c50-25017d72b298",
   "metadata": {},
   "source": [
    "### Raising Exceptions"
   ]
  },
  {
   "cell_type": "code",
   "execution_count": 23,
   "id": "f16d551e-d5ff-4198-9130-8c49ec2f40ee",
   "metadata": {},
   "outputs": [
    {
     "name": "stdout",
     "output_type": "stream",
     "text": [
      "There was some sort of error\n"
     ]
    }
   ],
   "source": [
    "@handleException\n",
    "def raiseError(n):\n",
    "    raise Exception()\n",
    "\n",
    "raiseError(2)"
   ]
  },
  {
   "cell_type": "code",
   "execution_count": null,
   "id": "a7ba4cab-f566-4452-bc96-8bdbdb620f37",
   "metadata": {},
   "outputs": [],
   "source": []
  }
 ],
 "metadata": {
  "kernelspec": {
   "display_name": "Python 3 (ipykernel)",
   "language": "python",
   "name": "python3"
  },
  "language_info": {
   "codemirror_mode": {
    "name": "ipython",
    "version": 3
   },
   "file_extension": ".py",
   "mimetype": "text/x-python",
   "name": "python",
   "nbconvert_exporter": "python",
   "pygments_lexer": "ipython3",
   "version": "3.12.2"
  }
 },
 "nbformat": 4,
 "nbformat_minor": 5
}

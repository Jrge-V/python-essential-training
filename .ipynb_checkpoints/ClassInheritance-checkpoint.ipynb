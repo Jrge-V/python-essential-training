{
 "cells": [
  {
   "cell_type": "markdown",
   "id": "5ff6d79c-3088-45dd-a305-c3f1b6364faa",
   "metadata": {},
   "source": [
    "# Class Inheritance"
   ]
  },
  {
   "cell_type": "code",
   "execution_count": 11,
   "id": "10730988-467d-41bc-9057-cde61067f347",
   "metadata": {},
   "outputs": [],
   "source": [
    "class Dog:\n",
    "    # underscore means you probably shouldnt change the code or it might cause breakage\n",
    "    _legs = 4\n",
    "    def __init__(self, name):\n",
    "        self.name = name\n",
    "\n",
    "    def speak(self):\n",
    "        print(self.name + ' says: Bark!')\n",
    "\n",
    "    def getLegs(self):\n",
    "        return self._legs\n",
    "\n",
    "# This is extending the parent DOG class, Chihuahua is a CHILD\n",
    "class Chihuahua(Dog):\n",
    "    def speak(self):\n",
    "        print(f'{self.name} says: Yap yap yap!')\n",
    "\n",
    "    # can also add more methods to the child class, Ex:\n",
    "    def wagTail(self):\n",
    "        print('Vigorous Wagging!')\n",
    "\n"
   ]
  },
  {
   "cell_type": "code",
   "execution_count": 12,
   "id": "80be10c2-8750-431a-9587-e58ec201ca0a",
   "metadata": {},
   "outputs": [
    {
     "name": "stdout",
     "output_type": "stream",
     "text": [
      "Roxy says: Yap yap yap!\n",
      "Vigorous Wagging!\n"
     ]
    }
   ],
   "source": [
    "# Similar to inner and outer functions, classes look at child first(inner) and then parent(outer)\n",
    "\n",
    "dog = Chihuahua('Roxy')\n",
    "dog.speak()\n",
    "dog.wagTail()"
   ]
  },
  {
   "cell_type": "code",
   "execution_count": 10,
   "id": "4e92474a-5777-41e3-83d5-b59d89ec2945",
   "metadata": {},
   "outputs": [
    {
     "name": "stdout",
     "output_type": "stream",
     "text": [
      "Rover says: Bark!\n"
     ]
    }
   ],
   "source": [
    "myDog = Dog('Rover')\n",
    "myDog.speak()"
   ]
  },
  {
   "cell_type": "markdown",
   "id": "2dc9de2a-ba9d-4cff-8740-3018cdc093b6",
   "metadata": {},
   "source": [
    "### Extending built-in classes"
   ]
  },
  {
   "cell_type": "code",
   "execution_count": 13,
   "id": "c0e97c83-0eb2-40bf-a0e0-e1d0b36be083",
   "metadata": {},
   "outputs": [],
   "source": [
    "myList = list()"
   ]
  },
  {
   "cell_type": "code",
   "execution_count": 14,
   "id": "57c69fea-2bbd-47ac-88e1-dcfbaddd24c3",
   "metadata": {},
   "outputs": [
    {
     "name": "stdout",
     "output_type": "stream",
     "text": [
      "[1, 2]\n"
     ]
    }
   ],
   "source": [
    "class UniqueList(list):\n",
    "    def append(self, item):\n",
    "        if item in self:\n",
    "            return\n",
    "        super().append(item)\n",
    "\n",
    "uniqueList = UniqueList()\n",
    "uniqueList.append(1)\n",
    "uniqueList.append(1)\n",
    "uniqueList.append(2)\n",
    "\n",
    "print(uniqueList)"
   ]
  },
  {
   "cell_type": "code",
   "execution_count": 17,
   "id": "9878ff6d-f634-4703-8113-a9d338524fcc",
   "metadata": {},
   "outputs": [
    {
     "name": "stdout",
     "output_type": "stream",
     "text": [
      "Unique List!\n"
     ]
    }
   ],
   "source": [
    "class UniqueList(list):\n",
    "\n",
    "    def __init__(self):\n",
    "        super().__init__()\n",
    "        self.someProperty = 'Unique List!'\n",
    "    \n",
    "    def append(self, item):\n",
    "        if item in self:\n",
    "            return\n",
    "        super().append(item)\n",
    "\n",
    "uniqueList = UniqueList()\n",
    "uniqueList.append(1)\n",
    "uniqueList.append(1)\n",
    "uniqueList.append(2)\n",
    "\n",
    "print(uniqueList.someProperty)"
   ]
  },
  {
   "cell_type": "code",
   "execution_count": null,
   "id": "3160131f-3f7f-4bb1-ad5f-06e063999278",
   "metadata": {},
   "outputs": [],
   "source": []
  }
 ],
 "metadata": {
  "kernelspec": {
   "display_name": "Python 3 (ipykernel)",
   "language": "python",
   "name": "python3"
  },
  "language_info": {
   "codemirror_mode": {
    "name": "ipython",
    "version": 3
   },
   "file_extension": ".py",
   "mimetype": "text/x-python",
   "name": "python",
   "nbconvert_exporter": "python",
   "pygments_lexer": "ipython3",
   "version": "3.12.2"
  }
 },
 "nbformat": 4,
 "nbformat_minor": 5
}

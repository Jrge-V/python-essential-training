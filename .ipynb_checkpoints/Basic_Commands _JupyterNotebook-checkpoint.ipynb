{
 "cells": [
  {
   "cell_type": "code",
   "execution_count": null,
   "id": "ccc22901-3e30-40bd-a013-ac1bdbdfca1f",
   "metadata": {},
   "outputs": [],
   "source": [
    "# creating notebook and notes"
   ]
  },
  {
   "cell_type": "code",
   "execution_count": null,
   "id": "86ada05e-7a33-4f88-a723-e9758d7b7784",
   "metadata": {},
   "outputs": [],
   "source": [
    "# to create human readable (MarkDown) text without code = m"
   ]
  },
  {
   "cell_type": "markdown",
   "id": "3650302d-b46a-4bbc-96f4-a6be7843a35c",
   "metadata": {},
   "source": [
    "This is MarkDown text (basically wahtI already use for GitHub md files)"
   ]
  },
  {
   "cell_type": "code",
   "execution_count": null,
   "id": "5d95d8b1-de9f-4094-992f-119c0baa71d8",
   "metadata": {},
   "outputs": [],
   "source": [
    "# Add new cell at the very bottom In command mode (outside the cell) = Shift + Enter"
   ]
  },
  {
   "cell_type": "code",
   "execution_count": null,
   "id": "f6919cef-190a-4c0e-a0c8-7879931ad6ce",
   "metadata": {},
   "outputs": [],
   "source": [
    "# Delete a cell in command mode = d + d"
   ]
  },
  {
   "cell_type": "code",
   "execution_count": null,
   "id": "a10c7bd5-14ac-4af3-8c43-48b8975b51d9",
   "metadata": {},
   "outputs": [],
   "source": [
    "# Add a cell to the top of the current command line in command mode = a"
   ]
  },
  {
   "cell_type": "code",
   "execution_count": null,
   "id": "cc041d76-3bc4-49ae-965e-b6ae0b008fa6",
   "metadata": {},
   "outputs": [],
   "source": [
    "# Add a cell to the bottom of the current command line in command mode = b"
   ]
  },
  {
   "cell_type": "code",
   "execution_count": 4,
   "id": "7e296483-65ee-4fda-afd7-629d847c9f8b",
   "metadata": {
    "scrolled": true
   },
   "outputs": [
    {
     "name": "stdout",
     "output_type": "stream",
     "text": [
      "data science\n"
     ]
    }
   ],
   "source": [
    "print('data science')"
   ]
  },
  {
   "cell_type": "code",
   "execution_count": null,
   "id": "42cb9f95-3ed8-44b4-8a13-81122dc53e2f",
   "metadata": {},
   "outputs": [],
   "source": []
  }
 ],
 "metadata": {
  "kernelspec": {
   "display_name": "Python 3 (ipykernel)",
   "language": "python",
   "name": "python3"
  },
  "language_info": {
   "codemirror_mode": {
    "name": "ipython",
    "version": 3
   },
   "file_extension": ".py",
   "mimetype": "text/x-python",
   "name": "python",
   "nbconvert_exporter": "python",
   "pygments_lexer": "ipython3",
   "version": "3.12.2"
  }
 },
 "nbformat": 4,
 "nbformat_minor": 5
}

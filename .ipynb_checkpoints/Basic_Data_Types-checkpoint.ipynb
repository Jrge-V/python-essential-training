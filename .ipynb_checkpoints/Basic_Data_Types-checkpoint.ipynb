{
 "cells": [
  {
   "cell_type": "markdown",
   "id": "f38997b2-44c4-4624-ae8f-04bd3f39e4f6",
   "metadata": {},
   "source": [
    "# Basic Data Types"
   ]
  },
  {
   "cell_type": "markdown",
   "id": "8c75b4e7-86a3-45f0-a2ef-6d0642b788d7",
   "metadata": {},
   "source": [
    "### Defining a Variable"
   ]
  },
  {
   "cell_type": "code",
   "execution_count": 3,
   "id": "c0b3aec2-78ab-4af5-8d95-f81d3e8a210b",
   "metadata": {},
   "outputs": [],
   "source": [
    "x = 5"
   ]
  },
  {
   "cell_type": "code",
   "execution_count": 4,
   "id": "af8ed6f8-9cf5-4b91-a441-4a05f957149a",
   "metadata": {},
   "outputs": [
    {
     "name": "stdout",
     "output_type": "stream",
     "text": [
      "5\n"
     ]
    }
   ],
   "source": [
    "print(x)"
   ]
  },
  {
   "cell_type": "code",
   "execution_count": 5,
   "id": "4fd041f0-96ab-4aad-838a-4665b4851ed9",
   "metadata": {},
   "outputs": [
    {
     "data": {
      "text/plain": [
       "5"
      ]
     },
     "execution_count": 5,
     "metadata": {},
     "output_type": "execute_result"
    }
   ],
   "source": [
    "x"
   ]
  },
  {
   "cell_type": "code",
   "execution_count": 6,
   "id": "0ea7d632-d08a-4b4f-a69a-f8a9df0a23e8",
   "metadata": {},
   "outputs": [],
   "source": [
    "name = 'jorge'"
   ]
  },
  {
   "cell_type": "code",
   "execution_count": 7,
   "id": "6f703e69-7037-460e-b580-bf7f5ee91b93",
   "metadata": {},
   "outputs": [
    {
     "data": {
      "text/plain": [
       "str"
      ]
     },
     "execution_count": 7,
     "metadata": {},
     "output_type": "execute_result"
    }
   ],
   "source": [
    "type(name)"
   ]
  },
  {
   "cell_type": "code",
   "execution_count": 8,
   "id": "c25bd47f-b13f-4614-b8b2-3776a0fe99d0",
   "metadata": {},
   "outputs": [
    {
     "data": {
      "text/plain": [
       "int"
      ]
     },
     "execution_count": 8,
     "metadata": {},
     "output_type": "execute_result"
    }
   ],
   "source": [
    "type(x)"
   ]
  },
  {
   "cell_type": "markdown",
   "id": "9830652d-8144-4b21-b3d8-14cf76ac8435",
   "metadata": {},
   "source": [
    "### Numbers"
   ]
  },
  {
   "cell_type": "code",
   "execution_count": 9,
   "id": "3d34ae9e-6538-4d15-9290-469d91f0f466",
   "metadata": {},
   "outputs": [
    {
     "data": {
      "text/plain": [
       "float"
      ]
     },
     "execution_count": 9,
     "metadata": {},
     "output_type": "execute_result"
    }
   ],
   "source": [
    "type(1.5)"
   ]
  },
  {
   "cell_type": "code",
   "execution_count": null,
   "id": "87d42e63-33e5-42b7-a01d-31351a39b288",
   "metadata": {},
   "outputs": [],
   "source": [
    "1.23456789"
   ]
  },
  {
   "cell_type": "code",
   "execution_count": null,
   "id": "c8a042bb-a605-4be9-8b3a-624df3984130",
   "metadata": {},
   "outputs": [],
   "source": [
    "12345678.9"
   ]
  },
  {
   "cell_type": "code",
   "execution_count": 11,
   "id": "8703a42e-049d-474b-ae89-5914ff0c00d9",
   "metadata": {},
   "outputs": [
    {
     "data": {
      "text/plain": [
       "complex"
      ]
     },
     "execution_count": 11,
     "metadata": {},
     "output_type": "execute_result"
    }
   ],
   "source": [
    "type(2j)"
   ]
  },
  {
   "cell_type": "code",
   "execution_count": 12,
   "id": "aa5ee9ca-6d45-4977-b86d-f755f74c4276",
   "metadata": {},
   "outputs": [
    {
     "data": {
      "text/plain": [
       "(-1+0j)"
      ]
     },
     "execution_count": 12,
     "metadata": {},
     "output_type": "execute_result"
    }
   ],
   "source": [
    "1j * 1j"
   ]
  },
  {
   "cell_type": "markdown",
   "id": "b492ba99-a94c-4fdc-bd50-51e2334b52f0",
   "metadata": {},
   "source": [
    "### Strings"
   ]
  },
  {
   "cell_type": "code",
   "execution_count": 13,
   "id": "850a99c0-a2cd-47da-a04f-94cb640c3704",
   "metadata": {},
   "outputs": [
    {
     "data": {
      "text/plain": [
       "'string 1 string 2'"
      ]
     },
     "execution_count": 13,
     "metadata": {},
     "output_type": "execute_result"
    }
   ],
   "source": [
    "'string 1 ' + 'string 2'"
   ]
  },
  {
   "cell_type": "code",
   "execution_count": 14,
   "id": "e704073a-0e2b-4a1e-a7a6-209f7d56444c",
   "metadata": {
    "scrolled": true
   },
   "outputs": [
    {
     "data": {
      "text/plain": [
       "'11'"
      ]
     },
     "execution_count": 14,
     "metadata": {},
     "output_type": "execute_result"
    }
   ],
   "source": [
    "'1' + '1'"
   ]
  },
  {
   "cell_type": "markdown",
   "id": "83405150-5c59-4cb6-949a-1923172badff",
   "metadata": {},
   "source": [
    "### Booleans"
   ]
  },
  {
   "cell_type": "code",
   "execution_count": 15,
   "id": "3136475e-f4e1-40ba-8102-d33952f9cc3b",
   "metadata": {},
   "outputs": [
    {
     "data": {
      "text/plain": [
       "True"
      ]
     },
     "execution_count": 15,
     "metadata": {},
     "output_type": "execute_result"
    }
   ],
   "source": [
    "True"
   ]
  },
  {
   "cell_type": "code",
   "execution_count": 16,
   "id": "8c977bfa-7bbf-45c3-aee3-f2561efacf6e",
   "metadata": {},
   "outputs": [
    {
     "data": {
      "text/plain": [
       "False"
      ]
     },
     "execution_count": 16,
     "metadata": {},
     "output_type": "execute_result"
    }
   ],
   "source": [
    "False"
   ]
  },
  {
   "cell_type": "code",
   "execution_count": 17,
   "id": "c4231375-5d3c-4fa0-ba45-7b7674004c1a",
   "metadata": {},
   "outputs": [],
   "source": [
    "true = True"
   ]
  },
  {
   "cell_type": "code",
   "execution_count": 18,
   "id": "5b92ae37-554e-4cc0-ab2e-e959ec354ebb",
   "metadata": {
    "scrolled": true
   },
   "outputs": [
    {
     "data": {
      "text/plain": [
       "True"
      ]
     },
     "execution_count": 18,
     "metadata": {},
     "output_type": "execute_result"
    }
   ],
   "source": [
    "true"
   ]
  },
  {
   "cell_type": "code",
   "execution_count": null,
   "id": "f2a9974c-2f52-4d7c-a190-f2bd7e3bea76",
   "metadata": {},
   "outputs": [],
   "source": [
    "# Comparion Operator"
   ]
  },
  {
   "cell_type": "code",
   "execution_count": 19,
   "id": "8ae5cf8f-c471-4e2f-9a4b-a3fd27f8d3b0",
   "metadata": {},
   "outputs": [
    {
     "data": {
      "text/plain": [
       "True"
      ]
     },
     "execution_count": 19,
     "metadata": {},
     "output_type": "execute_result"
    }
   ],
   "source": [
    "1 == 1"
   ]
  },
  {
   "cell_type": "code",
   "execution_count": 20,
   "id": "b7196fd6-69be-4469-a7a9-7d3d6392414d",
   "metadata": {},
   "outputs": [
    {
     "data": {
      "text/plain": [
       "False"
      ]
     },
     "execution_count": 20,
     "metadata": {},
     "output_type": "execute_result"
    }
   ],
   "source": [
    "1 == 2"
   ]
  }
 ],
 "metadata": {
  "kernelspec": {
   "display_name": "Python 3 (ipykernel)",
   "language": "python",
   "name": "python3"
  },
  "language_info": {
   "codemirror_mode": {
    "name": "ipython",
    "version": 3
   },
   "file_extension": ".py",
   "mimetype": "text/x-python",
   "name": "python",
   "nbconvert_exporter": "python",
   "pygments_lexer": "ipython3",
   "version": "3.12.2"
  }
 },
 "nbformat": 4,
 "nbformat_minor": 5
}

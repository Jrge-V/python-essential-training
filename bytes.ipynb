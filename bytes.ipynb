{
 "cells": [
  {
   "cell_type": "markdown",
   "id": "40e8bc15-ed74-4067-ac81-9d655b9ee9f8",
   "metadata": {},
   "source": [
    "# Bytes"
   ]
  },
  {
   "cell_type": "code",
   "execution_count": 2,
   "id": "abc4124b-dc4c-44a6-b4fd-0924a772832d",
   "metadata": {},
   "outputs": [
    {
     "data": {
      "text/plain": [
       "b'\\x00\\x00\\x00\\x00'"
      ]
     },
     "execution_count": 2,
     "metadata": {},
     "output_type": "execute_result"
    }
   ],
   "source": [
    "bytes(4)"
   ]
  },
  {
   "cell_type": "code",
   "execution_count": 9,
   "id": "681d9170-ae30-4196-847d-b544efdb4d8f",
   "metadata": {},
   "outputs": [
    {
     "data": {
      "text/plain": [
       "b'\\xf0\\x9f\\x99\\x84'"
      ]
     },
     "execution_count": 9,
     "metadata": {},
     "output_type": "execute_result"
    }
   ],
   "source": [
    "smileyBytes = bytes('🙄', 'utf-8')\n",
    "smileyBytes"
   ]
  },
  {
   "cell_type": "code",
   "execution_count": 11,
   "id": "74ad5554-3eca-46ef-bd7b-8502844f6f2e",
   "metadata": {},
   "outputs": [
    {
     "data": {
      "text/plain": [
       "'🙄'"
      ]
     },
     "execution_count": 11,
     "metadata": {},
     "output_type": "execute_result"
    }
   ],
   "source": [
    "smileyBytes.decode('utf-8')"
   ]
  },
  {
   "cell_type": "code",
   "execution_count": 12,
   "id": "7f1169c7-ba90-4eed-989a-1fa47ff8b976",
   "metadata": {},
   "outputs": [],
   "source": [
    "smileyBytes = bytearray('🙄', 'utf-8')"
   ]
  },
  {
   "cell_type": "code",
   "execution_count": 13,
   "id": "f287c1c0-c623-4ea5-b547-113aa87f0bc7",
   "metadata": {},
   "outputs": [
    {
     "data": {
      "text/plain": [
       "bytearray(b'\\xf0\\x9f\\x99\\x84')"
      ]
     },
     "execution_count": 13,
     "metadata": {},
     "output_type": "execute_result"
    }
   ],
   "source": [
    "smileyBytes"
   ]
  },
  {
   "cell_type": "code",
   "execution_count": 16,
   "id": "67f2a33e-da61-472c-8fbe-2dafca70543d",
   "metadata": {},
   "outputs": [],
   "source": [
    "smileyBytes[3] = int('85', 16)"
   ]
  },
  {
   "cell_type": "code",
   "execution_count": 17,
   "id": "7d84914f-ff05-40b0-b02c-9676eba4828d",
   "metadata": {},
   "outputs": [
    {
     "data": {
      "text/plain": [
       "'🙅'"
      ]
     },
     "execution_count": 17,
     "metadata": {},
     "output_type": "execute_result"
    }
   ],
   "source": [
    "smileyBytes.decode('utf-8')"
   ]
  }
 ],
 "metadata": {
  "kernelspec": {
   "display_name": "Python 3 (ipykernel)",
   "language": "python",
   "name": "python3"
  },
  "language_info": {
   "codemirror_mode": {
    "name": "ipython",
    "version": 3
   },
   "file_extension": ".py",
   "mimetype": "text/x-python",
   "name": "python",
   "nbconvert_exporter": "python",
   "pygments_lexer": "ipython3",
   "version": "3.12.2"
  }
 },
 "nbformat": 4,
 "nbformat_minor": 5
}
